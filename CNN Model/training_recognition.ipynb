{
  "cells": [
    {
      "cell_type": "code",
      "execution_count": 1,
      "metadata": {
        "colab": {
          "base_uri": "https://localhost:8080/"
        },
        "id": "F4erpmPZMc2m",
        "outputId": "94006d41-1d6b-4245-c219-a289c12096b1"
      },
      "outputs": [
        {
          "output_type": "stream",
          "name": "stdout",
          "text": [
            "2.8.2\n"
          ]
        }
      ],
      "source": [
        "import tensorflow as tf\n",
        "from tensorflow.keras import Sequential\n",
        "from tensorflow.keras.layers import Flatten, Dense, Dropout, BatchNormalization\n",
        "from tensorflow.keras.layers import Conv2D, MaxPool2D\n",
        "from tensorflow.keras.optimizers import Adam\n",
        "print(tf.__version__)"
      ]
    },
    {
      "cell_type": "code",
      "execution_count": 2,
      "metadata": {
        "id": "xtnSAsWLMc2p"
      },
      "outputs": [],
      "source": [
        "import pandas as pd\n",
        "import numpy as np\n",
        "import matplotlib.pyplot as plt\n",
        "from sklearn.model_selection import train_test_split\n",
        "from sklearn.preprocessing import StandardScaler, LabelEncoder"
      ]
    },
    {
      "cell_type": "code",
      "execution_count": 9,
      "metadata": {
        "id": "mxXU2JY2Mc2q"
      },
      "outputs": [],
      "source": [
        "temp_no = pd.read_csv(\"no_tac.csv\", index_col=False)\n",
        "temp_yes = pd.read_csv(\"only_tac.csv\", index_col=False)"
      ]
    },
    {
      "cell_type": "code",
      "execution_count": 10,
      "metadata": {
        "colab": {
          "base_uri": "https://localhost:8080/",
          "height": 288
        },
        "id": "7FCSIvMEMc2r",
        "outputId": "19f43270-0dab-4261-9342-1966d704a004"
      },
      "outputs": [
        {
          "output_type": "execute_result",
          "data": {
            "text/plain": [
              "   Unnamed: 0     pid  range_start_tac  range_end_tac  tac       time_acc  \\\n",
              "0           0  MJ8002       1493736009     1493737832    0  1493736949591   \n",
              "1           1  MJ8002       1493736009     1493737832    0  1493736949616   \n",
              "2           2  MJ8002       1493736009     1493737832    0  1493736949641   \n",
              "3           3  MJ8002       1493736009     1493737832    0  1493736949665   \n",
              "4           4  MJ8002       1493736009     1493737832    0  1493736949691   \n",
              "\n",
              "        x       y       z  time_acc_sec  \n",
              "0  0.0025  0.0043 -0.0027    1493736949  \n",
              "1 -0.0003 -0.0013 -0.0051    1493736949  \n",
              "2  0.0022  0.0014 -0.0027    1493736949  \n",
              "3  0.0006 -0.0010 -0.0047    1493736949  \n",
              "4  0.0009 -0.0005 -0.0055    1493736949  "
            ],
            "text/html": [
              "\n",
              "  <div id=\"df-6bd76cf4-7477-40ae-88ea-8bf2acaff018\">\n",
              "    <div class=\"colab-df-container\">\n",
              "      <div>\n",
              "<style scoped>\n",
              "    .dataframe tbody tr th:only-of-type {\n",
              "        vertical-align: middle;\n",
              "    }\n",
              "\n",
              "    .dataframe tbody tr th {\n",
              "        vertical-align: top;\n",
              "    }\n",
              "\n",
              "    .dataframe thead th {\n",
              "        text-align: right;\n",
              "    }\n",
              "</style>\n",
              "<table border=\"1\" class=\"dataframe\">\n",
              "  <thead>\n",
              "    <tr style=\"text-align: right;\">\n",
              "      <th></th>\n",
              "      <th>Unnamed: 0</th>\n",
              "      <th>pid</th>\n",
              "      <th>range_start_tac</th>\n",
              "      <th>range_end_tac</th>\n",
              "      <th>tac</th>\n",
              "      <th>time_acc</th>\n",
              "      <th>x</th>\n",
              "      <th>y</th>\n",
              "      <th>z</th>\n",
              "      <th>time_acc_sec</th>\n",
              "    </tr>\n",
              "  </thead>\n",
              "  <tbody>\n",
              "    <tr>\n",
              "      <th>0</th>\n",
              "      <td>0</td>\n",
              "      <td>MJ8002</td>\n",
              "      <td>1493736009</td>\n",
              "      <td>1493737832</td>\n",
              "      <td>0</td>\n",
              "      <td>1493736949591</td>\n",
              "      <td>0.0025</td>\n",
              "      <td>0.0043</td>\n",
              "      <td>-0.0027</td>\n",
              "      <td>1493736949</td>\n",
              "    </tr>\n",
              "    <tr>\n",
              "      <th>1</th>\n",
              "      <td>1</td>\n",
              "      <td>MJ8002</td>\n",
              "      <td>1493736009</td>\n",
              "      <td>1493737832</td>\n",
              "      <td>0</td>\n",
              "      <td>1493736949616</td>\n",
              "      <td>-0.0003</td>\n",
              "      <td>-0.0013</td>\n",
              "      <td>-0.0051</td>\n",
              "      <td>1493736949</td>\n",
              "    </tr>\n",
              "    <tr>\n",
              "      <th>2</th>\n",
              "      <td>2</td>\n",
              "      <td>MJ8002</td>\n",
              "      <td>1493736009</td>\n",
              "      <td>1493737832</td>\n",
              "      <td>0</td>\n",
              "      <td>1493736949641</td>\n",
              "      <td>0.0022</td>\n",
              "      <td>0.0014</td>\n",
              "      <td>-0.0027</td>\n",
              "      <td>1493736949</td>\n",
              "    </tr>\n",
              "    <tr>\n",
              "      <th>3</th>\n",
              "      <td>3</td>\n",
              "      <td>MJ8002</td>\n",
              "      <td>1493736009</td>\n",
              "      <td>1493737832</td>\n",
              "      <td>0</td>\n",
              "      <td>1493736949665</td>\n",
              "      <td>0.0006</td>\n",
              "      <td>-0.0010</td>\n",
              "      <td>-0.0047</td>\n",
              "      <td>1493736949</td>\n",
              "    </tr>\n",
              "    <tr>\n",
              "      <th>4</th>\n",
              "      <td>4</td>\n",
              "      <td>MJ8002</td>\n",
              "      <td>1493736009</td>\n",
              "      <td>1493737832</td>\n",
              "      <td>0</td>\n",
              "      <td>1493736949691</td>\n",
              "      <td>0.0009</td>\n",
              "      <td>-0.0005</td>\n",
              "      <td>-0.0055</td>\n",
              "      <td>1493736949</td>\n",
              "    </tr>\n",
              "  </tbody>\n",
              "</table>\n",
              "</div>\n",
              "      <button class=\"colab-df-convert\" onclick=\"convertToInteractive('df-6bd76cf4-7477-40ae-88ea-8bf2acaff018')\"\n",
              "              title=\"Convert this dataframe to an interactive table.\"\n",
              "              style=\"display:none;\">\n",
              "        \n",
              "  <svg xmlns=\"http://www.w3.org/2000/svg\" height=\"24px\"viewBox=\"0 0 24 24\"\n",
              "       width=\"24px\">\n",
              "    <path d=\"M0 0h24v24H0V0z\" fill=\"none\"/>\n",
              "    <path d=\"M18.56 5.44l.94 2.06.94-2.06 2.06-.94-2.06-.94-.94-2.06-.94 2.06-2.06.94zm-11 1L8.5 8.5l.94-2.06 2.06-.94-2.06-.94L8.5 2.5l-.94 2.06-2.06.94zm10 10l.94 2.06.94-2.06 2.06-.94-2.06-.94-.94-2.06-.94 2.06-2.06.94z\"/><path d=\"M17.41 7.96l-1.37-1.37c-.4-.4-.92-.59-1.43-.59-.52 0-1.04.2-1.43.59L10.3 9.45l-7.72 7.72c-.78.78-.78 2.05 0 2.83L4 21.41c.39.39.9.59 1.41.59.51 0 1.02-.2 1.41-.59l7.78-7.78 2.81-2.81c.8-.78.8-2.07 0-2.86zM5.41 20L4 18.59l7.72-7.72 1.47 1.35L5.41 20z\"/>\n",
              "  </svg>\n",
              "      </button>\n",
              "      \n",
              "  <style>\n",
              "    .colab-df-container {\n",
              "      display:flex;\n",
              "      flex-wrap:wrap;\n",
              "      gap: 12px;\n",
              "    }\n",
              "\n",
              "    .colab-df-convert {\n",
              "      background-color: #E8F0FE;\n",
              "      border: none;\n",
              "      border-radius: 50%;\n",
              "      cursor: pointer;\n",
              "      display: none;\n",
              "      fill: #1967D2;\n",
              "      height: 32px;\n",
              "      padding: 0 0 0 0;\n",
              "      width: 32px;\n",
              "    }\n",
              "\n",
              "    .colab-df-convert:hover {\n",
              "      background-color: #E2EBFA;\n",
              "      box-shadow: 0px 1px 2px rgba(60, 64, 67, 0.3), 0px 1px 3px 1px rgba(60, 64, 67, 0.15);\n",
              "      fill: #174EA6;\n",
              "    }\n",
              "\n",
              "    [theme=dark] .colab-df-convert {\n",
              "      background-color: #3B4455;\n",
              "      fill: #D2E3FC;\n",
              "    }\n",
              "\n",
              "    [theme=dark] .colab-df-convert:hover {\n",
              "      background-color: #434B5C;\n",
              "      box-shadow: 0px 1px 3px 1px rgba(0, 0, 0, 0.15);\n",
              "      filter: drop-shadow(0px 1px 2px rgba(0, 0, 0, 0.3));\n",
              "      fill: #FFFFFF;\n",
              "    }\n",
              "  </style>\n",
              "\n",
              "      <script>\n",
              "        const buttonEl =\n",
              "          document.querySelector('#df-6bd76cf4-7477-40ae-88ea-8bf2acaff018 button.colab-df-convert');\n",
              "        buttonEl.style.display =\n",
              "          google.colab.kernel.accessAllowed ? 'block' : 'none';\n",
              "\n",
              "        async function convertToInteractive(key) {\n",
              "          const element = document.querySelector('#df-6bd76cf4-7477-40ae-88ea-8bf2acaff018');\n",
              "          const dataTable =\n",
              "            await google.colab.kernel.invokeFunction('convertToInteractive',\n",
              "                                                     [key], {});\n",
              "          if (!dataTable) return;\n",
              "\n",
              "          const docLinkHtml = 'Like what you see? Visit the ' +\n",
              "            '<a target=\"_blank\" href=https://colab.research.google.com/notebooks/data_table.ipynb>data table notebook</a>'\n",
              "            + ' to learn more about interactive tables.';\n",
              "          element.innerHTML = '';\n",
              "          dataTable['output_type'] = 'display_data';\n",
              "          await google.colab.output.renderOutput(dataTable, element);\n",
              "          const docLink = document.createElement('div');\n",
              "          docLink.innerHTML = docLinkHtml;\n",
              "          element.appendChild(docLink);\n",
              "        }\n",
              "      </script>\n",
              "    </div>\n",
              "  </div>\n",
              "  "
            ]
          },
          "metadata": {},
          "execution_count": 10
        }
      ],
      "source": [
        "temp_no.head()"
      ]
    },
    {
      "cell_type": "code",
      "execution_count": 11,
      "metadata": {
        "id": "60ff_FvIMc2r"
      },
      "outputs": [],
      "source": [
        "all_frames = [temp_yes, temp_no]\n",
        "for frame in all_frames:\n",
        "    frame.drop(\"pid\", axis=1, inplace=True)\n",
        "    frame.drop(\"range_start_tac\", axis=1, inplace=True)\n",
        "    frame.drop(\"range_end_tac\", axis=1, inplace=True)\n",
        "    frame.drop(\"time_acc_sec\", axis=1, inplace=True)"
      ]
    },
    {
      "cell_type": "code",
      "source": [
        "temp_yes.drop('Unnamed: 0', axis =1, inplace=True)\n",
        "temp_no.drop('Unnamed: 0', axis =1, inplace=True)"
      ],
      "metadata": {
        "id": "0033nywMN_C1"
      },
      "execution_count": 12,
      "outputs": []
    },
    {
      "cell_type": "code",
      "execution_count": 13,
      "metadata": {
        "colab": {
          "base_uri": "https://localhost:8080/"
        },
        "id": "9Btx47X7Mc2s",
        "outputId": "ff7d7ca0-5cf1-4523-9356-a0352733ee92"
      },
      "outputs": [
        {
          "output_type": "stream",
          "name": "stdout",
          "text": [
            "       tac       time_acc       x       y       z\n",
            "0        1  1493746992001 -0.0008 -0.0004 -0.0028\n",
            "1        1  1493746992027  0.0017 -0.0005 -0.0030\n",
            "2        1  1493746992052 -0.0011 -0.0001 -0.0021\n",
            "3        1  1493746992077 -0.0001 -0.0004 -0.0019\n",
            "4        1  1493746992107  0.0017  0.0011 -0.0043\n",
            "...    ...            ...     ...     ...     ...\n",
            "96387    1  1493768605376 -0.0733 -0.1473  0.1727\n",
            "96388    1  1493768605401  0.0269 -0.1601  0.1525\n",
            "96389    1  1493768605425  0.2667 -0.1914  0.0955\n",
            "96390    1  1493768605451  0.3787 -0.1690  0.1245\n",
            "96391    1  1493768605476  0.4629 -0.0231  0.3096\n",
            "\n",
            "[96392 rows x 5 columns]\n",
            "481960\n"
          ]
        }
      ],
      "source": [
        "print(temp_yes)\n",
        "print(temp_yes.size)"
      ]
    },
    {
      "cell_type": "code",
      "execution_count": 14,
      "metadata": {
        "colab": {
          "base_uri": "https://localhost:8080/"
        },
        "id": "fc9R3IgzMc2s",
        "outputId": "4d3cb0ad-8b97-439a-ca6e-5e86749d5edd"
      },
      "outputs": [
        {
          "output_type": "stream",
          "name": "stdout",
          "text": [
            "       tac       time_acc       x       y       z\n",
            "0        0  1493736949591  0.0025  0.0043 -0.0027\n",
            "1        0  1493736949616 -0.0003 -0.0013 -0.0051\n",
            "2        0  1493736949641  0.0022  0.0014 -0.0027\n",
            "3        0  1493736949665  0.0006 -0.0010 -0.0047\n",
            "4        0  1493736949691  0.0009 -0.0005 -0.0055\n",
            "...    ...            ...     ...     ...     ...\n",
            "96387    0  1493757304228 -0.0571 -0.0671 -0.0038\n",
            "96388    0  1493757304255 -0.0984 -0.0623  0.0460\n",
            "96389    0  1493757304278 -0.0952 -0.0038  0.0687\n",
            "96390    0  1493757304302 -0.0744  0.0052  0.0751\n",
            "96391    0  1493757304328 -0.0258  0.0304  0.0798\n",
            "\n",
            "[96392 rows x 5 columns]\n",
            "1096495\n"
          ]
        }
      ],
      "source": [
        "print(temp_no.head(96392))\n",
        "print(temp_no.size)"
      ]
    },
    {
      "cell_type": "code",
      "execution_count": 15,
      "metadata": {
        "colab": {
          "base_uri": "https://localhost:8080/"
        },
        "id": "fWMCmTbPMc2t",
        "outputId": "28d7f87f-ff96-462e-fd6d-a9474eb9a127"
      },
      "outputs": [
        {
          "output_type": "stream",
          "name": "stdout",
          "text": [
            "       tac       time_acc       x       y       z\n",
            "0        0  1493736949591  0.0025  0.0043 -0.0027\n",
            "1        0  1493736949616 -0.0003 -0.0013 -0.0051\n",
            "2        0  1493736949641  0.0022  0.0014 -0.0027\n",
            "3        0  1493736949665  0.0006 -0.0010 -0.0047\n",
            "4        0  1493736949691  0.0009 -0.0005 -0.0055\n",
            "...    ...            ...     ...     ...     ...\n",
            "96387    0  1493757304228 -0.0571 -0.0671 -0.0038\n",
            "96388    0  1493757304255 -0.0984 -0.0623  0.0460\n",
            "96389    0  1493757304278 -0.0952 -0.0038  0.0687\n",
            "96390    0  1493757304302 -0.0744  0.0052  0.0751\n",
            "96391    0  1493757304328 -0.0258  0.0304  0.0798\n",
            "\n",
            "[96392 rows x 5 columns]\n"
          ]
        }
      ],
      "source": [
        "new_temp_no = temp_no.head(96392)\n",
        "print(new_temp_no)"
      ]
    },
    {
      "cell_type": "markdown",
      "metadata": {
        "id": "rdSWSMcyMc2u"
      },
      "source": [
        "#### Load the Dataset "
      ]
    },
    {
      "cell_type": "code",
      "execution_count": 16,
      "metadata": {
        "id": "FzIWqfAGMc2w"
      },
      "outputs": [],
      "source": [
        "columns = ['tac', 'time_acc', 'x', 'y', 'z']"
      ]
    },
    {
      "cell_type": "code",
      "execution_count": 17,
      "metadata": {
        "id": "CzZOrC_LMc2w"
      },
      "outputs": [],
      "source": [
        "data = pd.concat(objs=[temp_yes, new_temp_no])"
      ]
    },
    {
      "cell_type": "code",
      "execution_count": 18,
      "metadata": {
        "colab": {
          "base_uri": "https://localhost:8080/",
          "height": 424
        },
        "id": "BXibbEZiMc2w",
        "outputId": "940789bc-6328-48f6-8cd3-4dff3a764b65"
      },
      "outputs": [
        {
          "output_type": "execute_result",
          "data": {
            "text/plain": [
              "       tac       time_acc       x       y       z\n",
              "0        1  1493746992001 -0.0008 -0.0004 -0.0028\n",
              "1        1  1493746992027  0.0017 -0.0005 -0.0030\n",
              "2        1  1493746992052 -0.0011 -0.0001 -0.0021\n",
              "3        1  1493746992077 -0.0001 -0.0004 -0.0019\n",
              "4        1  1493746992107  0.0017  0.0011 -0.0043\n",
              "...    ...            ...     ...     ...     ...\n",
              "96387    0  1493757304228 -0.0571 -0.0671 -0.0038\n",
              "96388    0  1493757304255 -0.0984 -0.0623  0.0460\n",
              "96389    0  1493757304278 -0.0952 -0.0038  0.0687\n",
              "96390    0  1493757304302 -0.0744  0.0052  0.0751\n",
              "96391    0  1493757304328 -0.0258  0.0304  0.0798\n",
              "\n",
              "[192784 rows x 5 columns]"
            ],
            "text/html": [
              "\n",
              "  <div id=\"df-e84c8395-fc3c-4378-a6e5-b236ff37e55f\">\n",
              "    <div class=\"colab-df-container\">\n",
              "      <div>\n",
              "<style scoped>\n",
              "    .dataframe tbody tr th:only-of-type {\n",
              "        vertical-align: middle;\n",
              "    }\n",
              "\n",
              "    .dataframe tbody tr th {\n",
              "        vertical-align: top;\n",
              "    }\n",
              "\n",
              "    .dataframe thead th {\n",
              "        text-align: right;\n",
              "    }\n",
              "</style>\n",
              "<table border=\"1\" class=\"dataframe\">\n",
              "  <thead>\n",
              "    <tr style=\"text-align: right;\">\n",
              "      <th></th>\n",
              "      <th>tac</th>\n",
              "      <th>time_acc</th>\n",
              "      <th>x</th>\n",
              "      <th>y</th>\n",
              "      <th>z</th>\n",
              "    </tr>\n",
              "  </thead>\n",
              "  <tbody>\n",
              "    <tr>\n",
              "      <th>0</th>\n",
              "      <td>1</td>\n",
              "      <td>1493746992001</td>\n",
              "      <td>-0.0008</td>\n",
              "      <td>-0.0004</td>\n",
              "      <td>-0.0028</td>\n",
              "    </tr>\n",
              "    <tr>\n",
              "      <th>1</th>\n",
              "      <td>1</td>\n",
              "      <td>1493746992027</td>\n",
              "      <td>0.0017</td>\n",
              "      <td>-0.0005</td>\n",
              "      <td>-0.0030</td>\n",
              "    </tr>\n",
              "    <tr>\n",
              "      <th>2</th>\n",
              "      <td>1</td>\n",
              "      <td>1493746992052</td>\n",
              "      <td>-0.0011</td>\n",
              "      <td>-0.0001</td>\n",
              "      <td>-0.0021</td>\n",
              "    </tr>\n",
              "    <tr>\n",
              "      <th>3</th>\n",
              "      <td>1</td>\n",
              "      <td>1493746992077</td>\n",
              "      <td>-0.0001</td>\n",
              "      <td>-0.0004</td>\n",
              "      <td>-0.0019</td>\n",
              "    </tr>\n",
              "    <tr>\n",
              "      <th>4</th>\n",
              "      <td>1</td>\n",
              "      <td>1493746992107</td>\n",
              "      <td>0.0017</td>\n",
              "      <td>0.0011</td>\n",
              "      <td>-0.0043</td>\n",
              "    </tr>\n",
              "    <tr>\n",
              "      <th>...</th>\n",
              "      <td>...</td>\n",
              "      <td>...</td>\n",
              "      <td>...</td>\n",
              "      <td>...</td>\n",
              "      <td>...</td>\n",
              "    </tr>\n",
              "    <tr>\n",
              "      <th>96387</th>\n",
              "      <td>0</td>\n",
              "      <td>1493757304228</td>\n",
              "      <td>-0.0571</td>\n",
              "      <td>-0.0671</td>\n",
              "      <td>-0.0038</td>\n",
              "    </tr>\n",
              "    <tr>\n",
              "      <th>96388</th>\n",
              "      <td>0</td>\n",
              "      <td>1493757304255</td>\n",
              "      <td>-0.0984</td>\n",
              "      <td>-0.0623</td>\n",
              "      <td>0.0460</td>\n",
              "    </tr>\n",
              "    <tr>\n",
              "      <th>96389</th>\n",
              "      <td>0</td>\n",
              "      <td>1493757304278</td>\n",
              "      <td>-0.0952</td>\n",
              "      <td>-0.0038</td>\n",
              "      <td>0.0687</td>\n",
              "    </tr>\n",
              "    <tr>\n",
              "      <th>96390</th>\n",
              "      <td>0</td>\n",
              "      <td>1493757304302</td>\n",
              "      <td>-0.0744</td>\n",
              "      <td>0.0052</td>\n",
              "      <td>0.0751</td>\n",
              "    </tr>\n",
              "    <tr>\n",
              "      <th>96391</th>\n",
              "      <td>0</td>\n",
              "      <td>1493757304328</td>\n",
              "      <td>-0.0258</td>\n",
              "      <td>0.0304</td>\n",
              "      <td>0.0798</td>\n",
              "    </tr>\n",
              "  </tbody>\n",
              "</table>\n",
              "<p>192784 rows × 5 columns</p>\n",
              "</div>\n",
              "      <button class=\"colab-df-convert\" onclick=\"convertToInteractive('df-e84c8395-fc3c-4378-a6e5-b236ff37e55f')\"\n",
              "              title=\"Convert this dataframe to an interactive table.\"\n",
              "              style=\"display:none;\">\n",
              "        \n",
              "  <svg xmlns=\"http://www.w3.org/2000/svg\" height=\"24px\"viewBox=\"0 0 24 24\"\n",
              "       width=\"24px\">\n",
              "    <path d=\"M0 0h24v24H0V0z\" fill=\"none\"/>\n",
              "    <path d=\"M18.56 5.44l.94 2.06.94-2.06 2.06-.94-2.06-.94-.94-2.06-.94 2.06-2.06.94zm-11 1L8.5 8.5l.94-2.06 2.06-.94-2.06-.94L8.5 2.5l-.94 2.06-2.06.94zm10 10l.94 2.06.94-2.06 2.06-.94-2.06-.94-.94-2.06-.94 2.06-2.06.94z\"/><path d=\"M17.41 7.96l-1.37-1.37c-.4-.4-.92-.59-1.43-.59-.52 0-1.04.2-1.43.59L10.3 9.45l-7.72 7.72c-.78.78-.78 2.05 0 2.83L4 21.41c.39.39.9.59 1.41.59.51 0 1.02-.2 1.41-.59l7.78-7.78 2.81-2.81c.8-.78.8-2.07 0-2.86zM5.41 20L4 18.59l7.72-7.72 1.47 1.35L5.41 20z\"/>\n",
              "  </svg>\n",
              "      </button>\n",
              "      \n",
              "  <style>\n",
              "    .colab-df-container {\n",
              "      display:flex;\n",
              "      flex-wrap:wrap;\n",
              "      gap: 12px;\n",
              "    }\n",
              "\n",
              "    .colab-df-convert {\n",
              "      background-color: #E8F0FE;\n",
              "      border: none;\n",
              "      border-radius: 50%;\n",
              "      cursor: pointer;\n",
              "      display: none;\n",
              "      fill: #1967D2;\n",
              "      height: 32px;\n",
              "      padding: 0 0 0 0;\n",
              "      width: 32px;\n",
              "    }\n",
              "\n",
              "    .colab-df-convert:hover {\n",
              "      background-color: #E2EBFA;\n",
              "      box-shadow: 0px 1px 2px rgba(60, 64, 67, 0.3), 0px 1px 3px 1px rgba(60, 64, 67, 0.15);\n",
              "      fill: #174EA6;\n",
              "    }\n",
              "\n",
              "    [theme=dark] .colab-df-convert {\n",
              "      background-color: #3B4455;\n",
              "      fill: #D2E3FC;\n",
              "    }\n",
              "\n",
              "    [theme=dark] .colab-df-convert:hover {\n",
              "      background-color: #434B5C;\n",
              "      box-shadow: 0px 1px 3px 1px rgba(0, 0, 0, 0.15);\n",
              "      filter: drop-shadow(0px 1px 2px rgba(0, 0, 0, 0.3));\n",
              "      fill: #FFFFFF;\n",
              "    }\n",
              "  </style>\n",
              "\n",
              "      <script>\n",
              "        const buttonEl =\n",
              "          document.querySelector('#df-e84c8395-fc3c-4378-a6e5-b236ff37e55f button.colab-df-convert');\n",
              "        buttonEl.style.display =\n",
              "          google.colab.kernel.accessAllowed ? 'block' : 'none';\n",
              "\n",
              "        async function convertToInteractive(key) {\n",
              "          const element = document.querySelector('#df-e84c8395-fc3c-4378-a6e5-b236ff37e55f');\n",
              "          const dataTable =\n",
              "            await google.colab.kernel.invokeFunction('convertToInteractive',\n",
              "                                                     [key], {});\n",
              "          if (!dataTable) return;\n",
              "\n",
              "          const docLinkHtml = 'Like what you see? Visit the ' +\n",
              "            '<a target=\"_blank\" href=https://colab.research.google.com/notebooks/data_table.ipynb>data table notebook</a>'\n",
              "            + ' to learn more about interactive tables.';\n",
              "          element.innerHTML = '';\n",
              "          dataTable['output_type'] = 'display_data';\n",
              "          await google.colab.output.renderOutput(dataTable, element);\n",
              "          const docLink = document.createElement('div');\n",
              "          docLink.innerHTML = docLinkHtml;\n",
              "          element.appendChild(docLink);\n",
              "        }\n",
              "      </script>\n",
              "    </div>\n",
              "  </div>\n",
              "  "
            ]
          },
          "metadata": {},
          "execution_count": 18
        }
      ],
      "source": [
        "data"
      ]
    },
    {
      "cell_type": "code",
      "execution_count": 19,
      "metadata": {
        "colab": {
          "base_uri": "https://localhost:8080/"
        },
        "id": "PWg4X98bMc2x",
        "outputId": "0a2f678b-af07-4075-9130-97c18689d035"
      },
      "outputs": [
        {
          "output_type": "execute_result",
          "data": {
            "text/plain": [
              "(192784, 5)"
            ]
          },
          "metadata": {},
          "execution_count": 19
        }
      ],
      "source": [
        "data.shape"
      ]
    },
    {
      "cell_type": "code",
      "execution_count": 20,
      "metadata": {
        "colab": {
          "base_uri": "https://localhost:8080/"
        },
        "id": "Z0EAtfTHMc2x",
        "outputId": "5b912a0b-663b-4935-835c-abd16d677cb4"
      },
      "outputs": [
        {
          "output_type": "stream",
          "name": "stdout",
          "text": [
            "<class 'pandas.core.frame.DataFrame'>\n",
            "Int64Index: 192784 entries, 0 to 96391\n",
            "Data columns (total 5 columns):\n",
            " #   Column    Non-Null Count   Dtype  \n",
            "---  ------    --------------   -----  \n",
            " 0   tac       192784 non-null  int64  \n",
            " 1   time_acc  192784 non-null  int64  \n",
            " 2   x         192784 non-null  float64\n",
            " 3   y         192784 non-null  float64\n",
            " 4   z         192784 non-null  float64\n",
            "dtypes: float64(3), int64(2)\n",
            "memory usage: 8.8 MB\n"
          ]
        }
      ],
      "source": [
        "data.info()"
      ]
    },
    {
      "cell_type": "code",
      "execution_count": 21,
      "metadata": {
        "colab": {
          "base_uri": "https://localhost:8080/"
        },
        "id": "gBHw79RkMc2x",
        "outputId": "0336e85b-e44d-42f4-8a9a-ee8b9c3582dc"
      },
      "outputs": [
        {
          "output_type": "execute_result",
          "data": {
            "text/plain": [
              "tac         0\n",
              "time_acc    0\n",
              "x           0\n",
              "y           0\n",
              "z           0\n",
              "dtype: int64"
            ]
          },
          "metadata": {},
          "execution_count": 21
        }
      ],
      "source": [
        "data.isnull().sum()"
      ]
    },
    {
      "cell_type": "code",
      "execution_count": 22,
      "metadata": {
        "colab": {
          "base_uri": "https://localhost:8080/"
        },
        "id": "t7JAM3xKMc2y",
        "outputId": "24239f80-d4be-42e4-9aba-e9b58f50fd36"
      },
      "outputs": [
        {
          "output_type": "execute_result",
          "data": {
            "text/plain": [
              "1    96392\n",
              "0    96392\n",
              "Name: tac, dtype: int64"
            ]
          },
          "metadata": {},
          "execution_count": 22
        }
      ],
      "source": [
        "data['tac'].value_counts()"
      ]
    },
    {
      "cell_type": "markdown",
      "metadata": {
        "id": "bEAyBU4vMc2y"
      },
      "source": [
        "### Balance this data "
      ]
    },
    {
      "cell_type": "code",
      "execution_count": 23,
      "metadata": {
        "colab": {
          "base_uri": "https://localhost:8080/"
        },
        "id": "9yvTnf1cMc2y",
        "outputId": "f668b8a1-ddf2-428b-b5c9-513f2e42497a"
      },
      "outputs": [
        {
          "output_type": "stream",
          "name": "stdout",
          "text": [
            "<class 'pandas.core.frame.DataFrame'>\n",
            "Int64Index: 192784 entries, 0 to 96391\n",
            "Data columns (total 5 columns):\n",
            " #   Column    Non-Null Count   Dtype  \n",
            "---  ------    --------------   -----  \n",
            " 0   tac       192784 non-null  int64  \n",
            " 1   time_acc  192784 non-null  int64  \n",
            " 2   x         192784 non-null  float64\n",
            " 3   y         192784 non-null  float64\n",
            " 4   z         192784 non-null  float64\n",
            "dtypes: float64(3), int64(2)\n",
            "memory usage: 8.8 MB\n"
          ]
        }
      ],
      "source": [
        "data.info()"
      ]
    },
    {
      "cell_type": "code",
      "execution_count": 24,
      "metadata": {
        "id": "pRoFaZMiMc2z"
      },
      "outputs": [],
      "source": [
        "fs = 20"
      ]
    },
    {
      "cell_type": "code",
      "execution_count": 25,
      "metadata": {
        "id": "4OTmID30Mc2z"
      },
      "outputs": [],
      "source": [
        "tacs = data['tac'].value_counts().index"
      ]
    },
    {
      "cell_type": "code",
      "execution_count": 26,
      "metadata": {
        "colab": {
          "base_uri": "https://localhost:8080/"
        },
        "id": "uOtZoTVYMc2z",
        "outputId": "66d02d72-3a0d-4429-de2d-120a2461f820"
      },
      "outputs": [
        {
          "output_type": "execute_result",
          "data": {
            "text/plain": [
              "Int64Index([1, 0], dtype='int64')"
            ]
          },
          "metadata": {},
          "execution_count": 26
        }
      ],
      "source": [
        "tacs"
      ]
    },
    {
      "cell_type": "code",
      "execution_count": 27,
      "metadata": {
        "scrolled": false,
        "colab": {
          "base_uri": "https://localhost:8080/",
          "height": 745
        },
        "id": "KMvfipgfMc2z",
        "outputId": "450bb231-671b-4d63-a9f9-77a5e27b2484"
      },
      "outputs": [
        {
          "output_type": "display_data",
          "data": {
            "text/plain": [
              "<Figure size 1080x504 with 3 Axes>"
            ],
            "image/png": "[encoded data removed]"
          },
          "metadata": {
            "needs_background": "light"
          }
        },
        {
          "output_type": "display_data",
          "data": {
            "text/plain": [
              "<Figure size 1080x504 with 3 Axes>"
            ],
            "image/png": "[encoded data removed]"
          },
          "metadata": {
            "needs_background": "light"
          }
        }
      ],
      "source": [
        "def plot_activity(activity, data):\n",
        "    fig, (ax0, ax1, ax2) = plt.subplots(nrows=3, figsize=(15, 7), sharex=True)\n",
        "    plot_axis(ax0, data['time_acc'], data['x'], 'X-Axis')\n",
        "    plot_axis(ax1, data['time_acc'], data['y'], 'Y-Axis')\n",
        "    plot_axis(ax2, data['time_acc'], data['z'], 'Z-Axis')\n",
        "    plt.subplots_adjust(hspace=0.2)\n",
        "    fig.suptitle(activity)\n",
        "    plt.subplots_adjust(top=0.90)\n",
        "    plt.show()\n",
        "\n",
        "def plot_axis(ax, x, y, title):\n",
        "    ax.plot(x, y, 'g')\n",
        "    ax.set_title(title)\n",
        "    ax.xaxis.set_visible(False)\n",
        "    ax.set_ylim([min(y) - np.std(y), max(y) + np.std(y)])\n",
        "    ax.set_xlim([min(x), max(x)])\n",
        "    ax.grid(True)\n",
        "\n",
        "for tac in tacs:\n",
        "    data_for_plot = data[(data['tac'] == tac)][:fs*10]\n",
        "    plot_activity(tac, data_for_plot)"
      ]
    },
    {
      "cell_type": "code",
      "execution_count": 28,
      "metadata": {
        "colab": {
          "base_uri": "https://localhost:8080/",
          "height": 206
        },
        "id": "zqcCoc0gMc20",
        "outputId": "b842ca5e-78a9-4595-cd50-69d2825eb081"
      },
      "outputs": [
        {
          "output_type": "execute_result",
          "data": {
            "text/plain": [
              "   tac       x       y       z\n",
              "0    1 -0.0008 -0.0004 -0.0028\n",
              "1    1  0.0017 -0.0005 -0.0030\n",
              "2    1 -0.0011 -0.0001 -0.0021\n",
              "3    1 -0.0001 -0.0004 -0.0019\n",
              "4    1  0.0017  0.0011 -0.0043"
            ],
            "text/html": [
              "\n",
              "  <div id=\"df-985bebb4-1f30-4619-8efd-ee023e194e9d\">\n",
              "    <div class=\"colab-df-container\">\n",
              "      <div>\n",
              "<style scoped>\n",
              "    .dataframe tbody tr th:only-of-type {\n",
              "        vertical-align: middle;\n",
              "    }\n",
              "\n",
              "    .dataframe tbody tr th {\n",
              "        vertical-align: top;\n",
              "    }\n",
              "\n",
              "    .dataframe thead th {\n",
              "        text-align: right;\n",
              "    }\n",
              "</style>\n",
              "<table border=\"1\" class=\"dataframe\">\n",
              "  <thead>\n",
              "    <tr style=\"text-align: right;\">\n",
              "      <th></th>\n",
              "      <th>tac</th>\n",
              "      <th>x</th>\n",
              "      <th>y</th>\n",
              "      <th>z</th>\n",
              "    </tr>\n",
              "  </thead>\n",
              "  <tbody>\n",
              "    <tr>\n",
              "      <th>0</th>\n",
              "      <td>1</td>\n",
              "      <td>-0.0008</td>\n",
              "      <td>-0.0004</td>\n",
              "      <td>-0.0028</td>\n",
              "    </tr>\n",
              "    <tr>\n",
              "      <th>1</th>\n",
              "      <td>1</td>\n",
              "      <td>0.0017</td>\n",
              "      <td>-0.0005</td>\n",
              "      <td>-0.0030</td>\n",
              "    </tr>\n",
              "    <tr>\n",
              "      <th>2</th>\n",
              "      <td>1</td>\n",
              "      <td>-0.0011</td>\n",
              "      <td>-0.0001</td>\n",
              "      <td>-0.0021</td>\n",
              "    </tr>\n",
              "    <tr>\n",
              "      <th>3</th>\n",
              "      <td>1</td>\n",
              "      <td>-0.0001</td>\n",
              "      <td>-0.0004</td>\n",
              "      <td>-0.0019</td>\n",
              "    </tr>\n",
              "    <tr>\n",
              "      <th>4</th>\n",
              "      <td>1</td>\n",
              "      <td>0.0017</td>\n",
              "      <td>0.0011</td>\n",
              "      <td>-0.0043</td>\n",
              "    </tr>\n",
              "  </tbody>\n",
              "</table>\n",
              "</div>\n",
              "      <button class=\"colab-df-convert\" onclick=\"convertToInteractive('df-985bebb4-1f30-4619-8efd-ee023e194e9d')\"\n",
              "              title=\"Convert this dataframe to an interactive table.\"\n",
              "              style=\"display:none;\">\n",
              "        \n",
              "  <svg xmlns=\"http://www.w3.org/2000/svg\" height=\"24px\"viewBox=\"0 0 24 24\"\n",
              "       width=\"24px\">\n",
              "    <path d=\"M0 0h24v24H0V0z\" fill=\"none\"/>\n",
              "    <path d=\"M18.56 5.44l.94 2.06.94-2.06 2.06-.94-2.06-.94-.94-2.06-.94 2.06-2.06.94zm-11 1L8.5 8.5l.94-2.06 2.06-.94-2.06-.94L8.5 2.5l-.94 2.06-2.06.94zm10 10l.94 2.06.94-2.06 2.06-.94-2.06-.94-.94-2.06-.94 2.06-2.06.94z\"/><path d=\"M17.41 7.96l-1.37-1.37c-.4-.4-.92-.59-1.43-.59-.52 0-1.04.2-1.43.59L10.3 9.45l-7.72 7.72c-.78.78-.78 2.05 0 2.83L4 21.41c.39.39.9.59 1.41.59.51 0 1.02-.2 1.41-.59l7.78-7.78 2.81-2.81c.8-.78.8-2.07 0-2.86zM5.41 20L4 18.59l7.72-7.72 1.47 1.35L5.41 20z\"/>\n",
              "  </svg>\n",
              "      </button>\n",
              "      \n",
              "  <style>\n",
              "    .colab-df-container {\n",
              "      display:flex;\n",
              "      flex-wrap:wrap;\n",
              "      gap: 12px;\n",
              "    }\n",
              "\n",
              "    .colab-df-convert {\n",
              "      background-color: #E8F0FE;\n",
              "      border: none;\n",
              "      border-radius: 50%;\n",
              "      cursor: pointer;\n",
              "      display: none;\n",
              "      fill: #1967D2;\n",
              "      height: 32px;\n",
              "      padding: 0 0 0 0;\n",
              "      width: 32px;\n",
              "    }\n",
              "\n",
              "    .colab-df-convert:hover {\n",
              "      background-color: #E2EBFA;\n",
              "      box-shadow: 0px 1px 2px rgba(60, 64, 67, 0.3), 0px 1px 3px 1px rgba(60, 64, 67, 0.15);\n",
              "      fill: #174EA6;\n",
              "    }\n",
              "\n",
              "    [theme=dark] .colab-df-convert {\n",
              "      background-color: #3B4455;\n",
              "      fill: #D2E3FC;\n",
              "    }\n",
              "\n",
              "    [theme=dark] .colab-df-convert:hover {\n",
              "      background-color: #434B5C;\n",
              "      box-shadow: 0px 1px 3px 1px rgba(0, 0, 0, 0.15);\n",
              "      filter: drop-shadow(0px 1px 2px rgba(0, 0, 0, 0.3));\n",
              "      fill: #FFFFFF;\n",
              "    }\n",
              "  </style>\n",
              "\n",
              "      <script>\n",
              "        const buttonEl =\n",
              "          document.querySelector('#df-985bebb4-1f30-4619-8efd-ee023e194e9d button.colab-df-convert');\n",
              "        buttonEl.style.display =\n",
              "          google.colab.kernel.accessAllowed ? 'block' : 'none';\n",
              "\n",
              "        async function convertToInteractive(key) {\n",
              "          const element = document.querySelector('#df-985bebb4-1f30-4619-8efd-ee023e194e9d');\n",
              "          const dataTable =\n",
              "            await google.colab.kernel.invokeFunction('convertToInteractive',\n",
              "                                                     [key], {});\n",
              "          if (!dataTable) return;\n",
              "\n",
              "          const docLinkHtml = 'Like what you see? Visit the ' +\n",
              "            '<a target=\"_blank\" href=https://colab.research.google.com/notebooks/data_table.ipynb>data table notebook</a>'\n",
              "            + ' to learn more about interactive tables.';\n",
              "          element.innerHTML = '';\n",
              "          dataTable['output_type'] = 'display_data';\n",
              "          await google.colab.output.renderOutput(dataTable, element);\n",
              "          const docLink = document.createElement('div');\n",
              "          docLink.innerHTML = docLinkHtml;\n",
              "          element.appendChild(docLink);\n",
              "        }\n",
              "      </script>\n",
              "    </div>\n",
              "  </div>\n",
              "  "
            ]
          },
          "metadata": {},
          "execution_count": 28
        }
      ],
      "source": [
        "df = data.drop(['time_acc'], axis = 1).copy()\n",
        "df.head()"
      ]
    },
    {
      "cell_type": "code",
      "execution_count": 29,
      "metadata": {
        "colab": {
          "base_uri": "https://localhost:8080/"
        },
        "id": "M3417_TpMc20",
        "outputId": "16865edd-dfa2-4c85-b2b8-7d2d5fd5409f"
      },
      "outputs": [
        {
          "output_type": "execute_result",
          "data": {
            "text/plain": [
              "1    96392\n",
              "0    96392\n",
              "Name: tac, dtype: int64"
            ]
          },
          "metadata": {},
          "execution_count": 29
        }
      ],
      "source": [
        "df['tac'].value_counts()"
      ]
    },
    {
      "cell_type": "code",
      "execution_count": 30,
      "metadata": {
        "id": "qin0gccQMc20"
      },
      "outputs": [],
      "source": [
        "positive = df[df['tac']==1].copy()\n",
        "negative = df[df['tac']==0].copy()"
      ]
    },
    {
      "cell_type": "code",
      "execution_count": 31,
      "metadata": {
        "colab": {
          "base_uri": "https://localhost:8080/"
        },
        "id": "ZzF9SkN4Mc21",
        "outputId": "7f5bff61-cdab-4649-b17b-d83fd42fc388"
      },
      "outputs": [
        {
          "output_type": "execute_result",
          "data": {
            "text/plain": [
              "(192784, 4)"
            ]
          },
          "metadata": {},
          "execution_count": 31
        }
      ],
      "source": [
        "balanced_data = pd.DataFrame()\n",
        "balanced_data = balanced_data.append([positive, negative])\n",
        "balanced_data.shape"
      ]
    },
    {
      "cell_type": "code",
      "execution_count": 32,
      "metadata": {
        "colab": {
          "base_uri": "https://localhost:8080/"
        },
        "id": "sihw7rkIMc21",
        "outputId": "f1711f3d-4025-4519-c1c8-6120bc32285e"
      },
      "outputs": [
        {
          "output_type": "execute_result",
          "data": {
            "text/plain": [
              "1    96392\n",
              "0    96392\n",
              "Name: tac, dtype: int64"
            ]
          },
          "metadata": {},
          "execution_count": 32
        }
      ],
      "source": [
        "balanced_data['tac'].value_counts()"
      ]
    },
    {
      "cell_type": "code",
      "execution_count": 33,
      "metadata": {
        "colab": {
          "base_uri": "https://localhost:8080/",
          "height": 206
        },
        "id": "wdHVg0DJMc21",
        "outputId": "49979051-13a7-4715-b4cc-c1e559d328e2"
      },
      "outputs": [
        {
          "output_type": "execute_result",
          "data": {
            "text/plain": [
              "   tac       x       y       z\n",
              "0    1 -0.0008 -0.0004 -0.0028\n",
              "1    1  0.0017 -0.0005 -0.0030\n",
              "2    1 -0.0011 -0.0001 -0.0021\n",
              "3    1 -0.0001 -0.0004 -0.0019\n",
              "4    1  0.0017  0.0011 -0.0043"
            ],
            "text/html": [
              "\n",
              "  <div id=\"df-88df8d40-93b5-4ada-9f31-c560b841bcc2\">\n",
              "    <div class=\"colab-df-container\">\n",
              "      <div>\n",
              "<style scoped>\n",
              "    .dataframe tbody tr th:only-of-type {\n",
              "        vertical-align: middle;\n",
              "    }\n",
              "\n",
              "    .dataframe tbody tr th {\n",
              "        vertical-align: top;\n",
              "    }\n",
              "\n",
              "    .dataframe thead th {\n",
              "        text-align: right;\n",
              "    }\n",
              "</style>\n",
              "<table border=\"1\" class=\"dataframe\">\n",
              "  <thead>\n",
              "    <tr style=\"text-align: right;\">\n",
              "      <th></th>\n",
              "      <th>tac</th>\n",
              "      <th>x</th>\n",
              "      <th>y</th>\n",
              "      <th>z</th>\n",
              "    </tr>\n",
              "  </thead>\n",
              "  <tbody>\n",
              "    <tr>\n",
              "      <th>0</th>\n",
              "      <td>1</td>\n",
              "      <td>-0.0008</td>\n",
              "      <td>-0.0004</td>\n",
              "      <td>-0.0028</td>\n",
              "    </tr>\n",
              "    <tr>\n",
              "      <th>1</th>\n",
              "      <td>1</td>\n",
              "      <td>0.0017</td>\n",
              "      <td>-0.0005</td>\n",
              "      <td>-0.0030</td>\n",
              "    </tr>\n",
              "    <tr>\n",
              "      <th>2</th>\n",
              "      <td>1</td>\n",
              "      <td>-0.0011</td>\n",
              "      <td>-0.0001</td>\n",
              "      <td>-0.0021</td>\n",
              "    </tr>\n",
              "    <tr>\n",
              "      <th>3</th>\n",
              "      <td>1</td>\n",
              "      <td>-0.0001</td>\n",
              "      <td>-0.0004</td>\n",
              "      <td>-0.0019</td>\n",
              "    </tr>\n",
              "    <tr>\n",
              "      <th>4</th>\n",
              "      <td>1</td>\n",
              "      <td>0.0017</td>\n",
              "      <td>0.0011</td>\n",
              "      <td>-0.0043</td>\n",
              "    </tr>\n",
              "  </tbody>\n",
              "</table>\n",
              "</div>\n",
              "      <button class=\"colab-df-convert\" onclick=\"convertToInteractive('df-88df8d40-93b5-4ada-9f31-c560b841bcc2')\"\n",
              "              title=\"Convert this dataframe to an interactive table.\"\n",
              "              style=\"display:none;\">\n",
              "        \n",
              "  <svg xmlns=\"http://www.w3.org/2000/svg\" height=\"24px\"viewBox=\"0 0 24 24\"\n",
              "       width=\"24px\">\n",
              "    <path d=\"M0 0h24v24H0V0z\" fill=\"none\"/>\n",
              "    <path d=\"M18.56 5.44l.94 2.06.94-2.06 2.06-.94-2.06-.94-.94-2.06-.94 2.06-2.06.94zm-11 1L8.5 8.5l.94-2.06 2.06-.94-2.06-.94L8.5 2.5l-.94 2.06-2.06.94zm10 10l.94 2.06.94-2.06 2.06-.94-2.06-.94-.94-2.06-.94 2.06-2.06.94z\"/><path d=\"M17.41 7.96l-1.37-1.37c-.4-.4-.92-.59-1.43-.59-.52 0-1.04.2-1.43.59L10.3 9.45l-7.72 7.72c-.78.78-.78 2.05 0 2.83L4 21.41c.39.39.9.59 1.41.59.51 0 1.02-.2 1.41-.59l7.78-7.78 2.81-2.81c.8-.78.8-2.07 0-2.86zM5.41 20L4 18.59l7.72-7.72 1.47 1.35L5.41 20z\"/>\n",
              "  </svg>\n",
              "      </button>\n",
              "      \n",
              "  <style>\n",
              "    .colab-df-container {\n",
              "      display:flex;\n",
              "      flex-wrap:wrap;\n",
              "      gap: 12px;\n",
              "    }\n",
              "\n",
              "    .colab-df-convert {\n",
              "      background-color: #E8F0FE;\n",
              "      border: none;\n",
              "      border-radius: 50%;\n",
              "      cursor: pointer;\n",
              "      display: none;\n",
              "      fill: #1967D2;\n",
              "      height: 32px;\n",
              "      padding: 0 0 0 0;\n",
              "      width: 32px;\n",
              "    }\n",
              "\n",
              "    .colab-df-convert:hover {\n",
              "      background-color: #E2EBFA;\n",
              "      box-shadow: 0px 1px 2px rgba(60, 64, 67, 0.3), 0px 1px 3px 1px rgba(60, 64, 67, 0.15);\n",
              "      fill: #174EA6;\n",
              "    }\n",
              "\n",
              "    [theme=dark] .colab-df-convert {\n",
              "      background-color: #3B4455;\n",
              "      fill: #D2E3FC;\n",
              "    }\n",
              "\n",
              "    [theme=dark] .colab-df-convert:hover {\n",
              "      background-color: #434B5C;\n",
              "      box-shadow: 0px 1px 3px 1px rgba(0, 0, 0, 0.15);\n",
              "      filter: drop-shadow(0px 1px 2px rgba(0, 0, 0, 0.3));\n",
              "      fill: #FFFFFF;\n",
              "    }\n",
              "  </style>\n",
              "\n",
              "      <script>\n",
              "        const buttonEl =\n",
              "          document.querySelector('#df-88df8d40-93b5-4ada-9f31-c560b841bcc2 button.colab-df-convert');\n",
              "        buttonEl.style.display =\n",
              "          google.colab.kernel.accessAllowed ? 'block' : 'none';\n",
              "\n",
              "        async function convertToInteractive(key) {\n",
              "          const element = document.querySelector('#df-88df8d40-93b5-4ada-9f31-c560b841bcc2');\n",
              "          const dataTable =\n",
              "            await google.colab.kernel.invokeFunction('convertToInteractive',\n",
              "                                                     [key], {});\n",
              "          if (!dataTable) return;\n",
              "\n",
              "          const docLinkHtml = 'Like what you see? Visit the ' +\n",
              "            '<a target=\"_blank\" href=https://colab.research.google.com/notebooks/data_table.ipynb>data table notebook</a>'\n",
              "            + ' to learn more about interactive tables.';\n",
              "          element.innerHTML = '';\n",
              "          dataTable['output_type'] = 'display_data';\n",
              "          await google.colab.output.renderOutput(dataTable, element);\n",
              "          const docLink = document.createElement('div');\n",
              "          docLink.innerHTML = docLinkHtml;\n",
              "          element.appendChild(docLink);\n",
              "        }\n",
              "      </script>\n",
              "    </div>\n",
              "  </div>\n",
              "  "
            ]
          },
          "metadata": {},
          "execution_count": 33
        }
      ],
      "source": [
        "balanced_data.head()"
      ]
    },
    {
      "cell_type": "code",
      "execution_count": 34,
      "metadata": {
        "id": "MqQ6EolFMc21"
      },
      "outputs": [],
      "source": [
        "from sklearn.preprocessing import LabelEncoder"
      ]
    },
    {
      "cell_type": "code",
      "execution_count": 35,
      "metadata": {
        "colab": {
          "base_uri": "https://localhost:8080/",
          "height": 206
        },
        "id": "wVqd-vWrMc21",
        "outputId": "8f4c44c9-3dd3-4480-84c7-c93912fc4efe"
      },
      "outputs": [
        {
          "output_type": "execute_result",
          "data": {
            "text/plain": [
              "   tac       x       y       z  label\n",
              "0    1 -0.0008 -0.0004 -0.0028      1\n",
              "1    1  0.0017 -0.0005 -0.0030      1\n",
              "2    1 -0.0011 -0.0001 -0.0021      1\n",
              "3    1 -0.0001 -0.0004 -0.0019      1\n",
              "4    1  0.0017  0.0011 -0.0043      1"
            ],
            "text/html": [
              "\n",
              "  <div id=\"df-d64c5461-7053-4f50-834e-2b0a371f814f\">\n",
              "    <div class=\"colab-df-container\">\n",
              "      <div>\n",
              "<style scoped>\n",
              "    .dataframe tbody tr th:only-of-type {\n",
              "        vertical-align: middle;\n",
              "    }\n",
              "\n",
              "    .dataframe tbody tr th {\n",
              "        vertical-align: top;\n",
              "    }\n",
              "\n",
              "    .dataframe thead th {\n",
              "        text-align: right;\n",
              "    }\n",
              "</style>\n",
              "<table border=\"1\" class=\"dataframe\">\n",
              "  <thead>\n",
              "    <tr style=\"text-align: right;\">\n",
              "      <th></th>\n",
              "      <th>tac</th>\n",
              "      <th>x</th>\n",
              "      <th>y</th>\n",
              "      <th>z</th>\n",
              "      <th>label</th>\n",
              "    </tr>\n",
              "  </thead>\n",
              "  <tbody>\n",
              "    <tr>\n",
              "      <th>0</th>\n",
              "      <td>1</td>\n",
              "      <td>-0.0008</td>\n",
              "      <td>-0.0004</td>\n",
              "      <td>-0.0028</td>\n",
              "      <td>1</td>\n",
              "    </tr>\n",
              "    <tr>\n",
              "      <th>1</th>\n",
              "      <td>1</td>\n",
              "      <td>0.0017</td>\n",
              "      <td>-0.0005</td>\n",
              "      <td>-0.0030</td>\n",
              "      <td>1</td>\n",
              "    </tr>\n",
              "    <tr>\n",
              "      <th>2</th>\n",
              "      <td>1</td>\n",
              "      <td>-0.0011</td>\n",
              "      <td>-0.0001</td>\n",
              "      <td>-0.0021</td>\n",
              "      <td>1</td>\n",
              "    </tr>\n",
              "    <tr>\n",
              "      <th>3</th>\n",
              "      <td>1</td>\n",
              "      <td>-0.0001</td>\n",
              "      <td>-0.0004</td>\n",
              "      <td>-0.0019</td>\n",
              "      <td>1</td>\n",
              "    </tr>\n",
              "    <tr>\n",
              "      <th>4</th>\n",
              "      <td>1</td>\n",
              "      <td>0.0017</td>\n",
              "      <td>0.0011</td>\n",
              "      <td>-0.0043</td>\n",
              "      <td>1</td>\n",
              "    </tr>\n",
              "  </tbody>\n",
              "</table>\n",
              "</div>\n",
              "      <button class=\"colab-df-convert\" onclick=\"convertToInteractive('df-d64c5461-7053-4f50-834e-2b0a371f814f')\"\n",
              "              title=\"Convert this dataframe to an interactive table.\"\n",
              "              style=\"display:none;\">\n",
              "        \n",
              "  <svg xmlns=\"http://www.w3.org/2000/svg\" height=\"24px\"viewBox=\"0 0 24 24\"\n",
              "       width=\"24px\">\n",
              "    <path d=\"M0 0h24v24H0V0z\" fill=\"none\"/>\n",
              "    <path d=\"M18.56 5.44l.94 2.06.94-2.06 2.06-.94-2.06-.94-.94-2.06-.94 2.06-2.06.94zm-11 1L8.5 8.5l.94-2.06 2.06-.94-2.06-.94L8.5 2.5l-.94 2.06-2.06.94zm10 10l.94 2.06.94-2.06 2.06-.94-2.06-.94-.94-2.06-.94 2.06-2.06.94z\"/><path d=\"M17.41 7.96l-1.37-1.37c-.4-.4-.92-.59-1.43-.59-.52 0-1.04.2-1.43.59L10.3 9.45l-7.72 7.72c-.78.78-.78 2.05 0 2.83L4 21.41c.39.39.9.59 1.41.59.51 0 1.02-.2 1.41-.59l7.78-7.78 2.81-2.81c.8-.78.8-2.07 0-2.86zM5.41 20L4 18.59l7.72-7.72 1.47 1.35L5.41 20z\"/>\n",
              "  </svg>\n",
              "      </button>\n",
              "      \n",
              "  <style>\n",
              "    .colab-df-container {\n",
              "      display:flex;\n",
              "      flex-wrap:wrap;\n",
              "      gap: 12px;\n",
              "    }\n",
              "\n",
              "    .colab-df-convert {\n",
              "      background-color: #E8F0FE;\n",
              "      border: none;\n",
              "      border-radius: 50%;\n",
              "      cursor: pointer;\n",
              "      display: none;\n",
              "      fill: #1967D2;\n",
              "      height: 32px;\n",
              "      padding: 0 0 0 0;\n",
              "      width: 32px;\n",
              "    }\n",
              "\n",
              "    .colab-df-convert:hover {\n",
              "      background-color: #E2EBFA;\n",
              "      box-shadow: 0px 1px 2px rgba(60, 64, 67, 0.3), 0px 1px 3px 1px rgba(60, 64, 67, 0.15);\n",
              "      fill: #174EA6;\n",
              "    }\n",
              "\n",
              "    [theme=dark] .colab-df-convert {\n",
              "      background-color: #3B4455;\n",
              "      fill: #D2E3FC;\n",
              "    }\n",
              "\n",
              "    [theme=dark] .colab-df-convert:hover {\n",
              "      background-color: #434B5C;\n",
              "      box-shadow: 0px 1px 3px 1px rgba(0, 0, 0, 0.15);\n",
              "      filter: drop-shadow(0px 1px 2px rgba(0, 0, 0, 0.3));\n",
              "      fill: #FFFFFF;\n",
              "    }\n",
              "  </style>\n",
              "\n",
              "      <script>\n",
              "        const buttonEl =\n",
              "          document.querySelector('#df-d64c5461-7053-4f50-834e-2b0a371f814f button.colab-df-convert');\n",
              "        buttonEl.style.display =\n",
              "          google.colab.kernel.accessAllowed ? 'block' : 'none';\n",
              "\n",
              "        async function convertToInteractive(key) {\n",
              "          const element = document.querySelector('#df-d64c5461-7053-4f50-834e-2b0a371f814f');\n",
              "          const dataTable =\n",
              "            await google.colab.kernel.invokeFunction('convertToInteractive',\n",
              "                                                     [key], {});\n",
              "          if (!dataTable) return;\n",
              "\n",
              "          const docLinkHtml = 'Like what you see? Visit the ' +\n",
              "            '<a target=\"_blank\" href=https://colab.research.google.com/notebooks/data_table.ipynb>data table notebook</a>'\n",
              "            + ' to learn more about interactive tables.';\n",
              "          element.innerHTML = '';\n",
              "          dataTable['output_type'] = 'display_data';\n",
              "          await google.colab.output.renderOutput(dataTable, element);\n",
              "          const docLink = document.createElement('div');\n",
              "          docLink.innerHTML = docLinkHtml;\n",
              "          element.appendChild(docLink);\n",
              "        }\n",
              "      </script>\n",
              "    </div>\n",
              "  </div>\n",
              "  "
            ]
          },
          "metadata": {},
          "execution_count": 35
        }
      ],
      "source": [
        "label = LabelEncoder()\n",
        "balanced_data['label'] = label.fit_transform(balanced_data['tac'])\n",
        "balanced_data.head()"
      ]
    },
    {
      "cell_type": "code",
      "execution_count": 36,
      "metadata": {
        "colab": {
          "base_uri": "https://localhost:8080/"
        },
        "id": "-7V5ut6FMc22",
        "outputId": "fe87cc2c-186a-48dd-9258-67ab846790f1"
      },
      "outputs": [
        {
          "output_type": "execute_result",
          "data": {
            "text/plain": [
              "array([0, 1])"
            ]
          },
          "metadata": {},
          "execution_count": 36
        }
      ],
      "source": [
        "label.classes_"
      ]
    },
    {
      "cell_type": "markdown",
      "metadata": {
        "id": "NY6MyO_dMc22"
      },
      "source": [
        "### Standardized data "
      ]
    },
    {
      "cell_type": "code",
      "execution_count": 37,
      "metadata": {
        "id": "b0OJzsICMc22"
      },
      "outputs": [],
      "source": [
        "X = balanced_data[['x', 'y', 'z']]\n",
        "y = balanced_data['label']"
      ]
    },
    {
      "cell_type": "code",
      "execution_count": 38,
      "metadata": {
        "colab": {
          "base_uri": "https://localhost:8080/",
          "height": 424
        },
        "id": "-7C4AqAvMc22",
        "outputId": "436f7b8f-d08a-41c6-d9b1-568e5adfe2ee"
      },
      "outputs": [
        {
          "output_type": "execute_result",
          "data": {
            "text/plain": [
              "            x       y       z\n",
              "0     -0.0008 -0.0004 -0.0028\n",
              "1      0.0017 -0.0005 -0.0030\n",
              "2     -0.0011 -0.0001 -0.0021\n",
              "3     -0.0001 -0.0004 -0.0019\n",
              "4      0.0017  0.0011 -0.0043\n",
              "...       ...     ...     ...\n",
              "96387 -0.0571 -0.0671 -0.0038\n",
              "96388 -0.0984 -0.0623  0.0460\n",
              "96389 -0.0952 -0.0038  0.0687\n",
              "96390 -0.0744  0.0052  0.0751\n",
              "96391 -0.0258  0.0304  0.0798\n",
              "\n",
              "[192784 rows x 3 columns]"
            ],
            "text/html": [
              "\n",
              "  <div id=\"df-0bf6aa19-1f05-4a84-b70d-46cb1f2a8d17\">\n",
              "    <div class=\"colab-df-container\">\n",
              "      <div>\n",
              "<style scoped>\n",
              "    .dataframe tbody tr th:only-of-type {\n",
              "        vertical-align: middle;\n",
              "    }\n",
              "\n",
              "    .dataframe tbody tr th {\n",
              "        vertical-align: top;\n",
              "    }\n",
              "\n",
              "    .dataframe thead th {\n",
              "        text-align: right;\n",
              "    }\n",
              "</style>\n",
              "<table border=\"1\" class=\"dataframe\">\n",
              "  <thead>\n",
              "    <tr style=\"text-align: right;\">\n",
              "      <th></th>\n",
              "      <th>x</th>\n",
              "      <th>y</th>\n",
              "      <th>z</th>\n",
              "    </tr>\n",
              "  </thead>\n",
              "  <tbody>\n",
              "    <tr>\n",
              "      <th>0</th>\n",
              "      <td>-0.0008</td>\n",
              "      <td>-0.0004</td>\n",
              "      <td>-0.0028</td>\n",
              "    </tr>\n",
              "    <tr>\n",
              "      <th>1</th>\n",
              "      <td>0.0017</td>\n",
              "      <td>-0.0005</td>\n",
              "      <td>-0.0030</td>\n",
              "    </tr>\n",
              "    <tr>\n",
              "      <th>2</th>\n",
              "      <td>-0.0011</td>\n",
              "      <td>-0.0001</td>\n",
              "      <td>-0.0021</td>\n",
              "    </tr>\n",
              "    <tr>\n",
              "      <th>3</th>\n",
              "      <td>-0.0001</td>\n",
              "      <td>-0.0004</td>\n",
              "      <td>-0.0019</td>\n",
              "    </tr>\n",
              "    <tr>\n",
              "      <th>4</th>\n",
              "      <td>0.0017</td>\n",
              "      <td>0.0011</td>\n",
              "      <td>-0.0043</td>\n",
              "    </tr>\n",
              "    <tr>\n",
              "      <th>...</th>\n",
              "      <td>...</td>\n",
              "      <td>...</td>\n",
              "      <td>...</td>\n",
              "    </tr>\n",
              "    <tr>\n",
              "      <th>96387</th>\n",
              "      <td>-0.0571</td>\n",
              "      <td>-0.0671</td>\n",
              "      <td>-0.0038</td>\n",
              "    </tr>\n",
              "    <tr>\n",
              "      <th>96388</th>\n",
              "      <td>-0.0984</td>\n",
              "      <td>-0.0623</td>\n",
              "      <td>0.0460</td>\n",
              "    </tr>\n",
              "    <tr>\n",
              "      <th>96389</th>\n",
              "      <td>-0.0952</td>\n",
              "      <td>-0.0038</td>\n",
              "      <td>0.0687</td>\n",
              "    </tr>\n",
              "    <tr>\n",
              "      <th>96390</th>\n",
              "      <td>-0.0744</td>\n",
              "      <td>0.0052</td>\n",
              "      <td>0.0751</td>\n",
              "    </tr>\n",
              "    <tr>\n",
              "      <th>96391</th>\n",
              "      <td>-0.0258</td>\n",
              "      <td>0.0304</td>\n",
              "      <td>0.0798</td>\n",
              "    </tr>\n",
              "  </tbody>\n",
              "</table>\n",
              "<p>192784 rows × 3 columns</p>\n",
              "</div>\n",
              "      <button class=\"colab-df-convert\" onclick=\"convertToInteractive('df-0bf6aa19-1f05-4a84-b70d-46cb1f2a8d17')\"\n",
              "              title=\"Convert this dataframe to an interactive table.\"\n",
              "              style=\"display:none;\">\n",
              "        \n",
              "  <svg xmlns=\"http://www.w3.org/2000/svg\" height=\"24px\"viewBox=\"0 0 24 24\"\n",
              "       width=\"24px\">\n",
              "    <path d=\"M0 0h24v24H0V0z\" fill=\"none\"/>\n",
              "    <path d=\"M18.56 5.44l.94 2.06.94-2.06 2.06-.94-2.06-.94-.94-2.06-.94 2.06-2.06.94zm-11 1L8.5 8.5l.94-2.06 2.06-.94-2.06-.94L8.5 2.5l-.94 2.06-2.06.94zm10 10l.94 2.06.94-2.06 2.06-.94-2.06-.94-.94-2.06-.94 2.06-2.06.94z\"/><path d=\"M17.41 7.96l-1.37-1.37c-.4-.4-.92-.59-1.43-.59-.52 0-1.04.2-1.43.59L10.3 9.45l-7.72 7.72c-.78.78-.78 2.05 0 2.83L4 21.41c.39.39.9.59 1.41.59.51 0 1.02-.2 1.41-.59l7.78-7.78 2.81-2.81c.8-.78.8-2.07 0-2.86zM5.41 20L4 18.59l7.72-7.72 1.47 1.35L5.41 20z\"/>\n",
              "  </svg>\n",
              "      </button>\n",
              "      \n",
              "  <style>\n",
              "    .colab-df-container {\n",
              "      display:flex;\n",
              "      flex-wrap:wrap;\n",
              "      gap: 12px;\n",
              "    }\n",
              "\n",
              "    .colab-df-convert {\n",
              "      background-color: #E8F0FE;\n",
              "      border: none;\n",
              "      border-radius: 50%;\n",
              "      cursor: pointer;\n",
              "      display: none;\n",
              "      fill: #1967D2;\n",
              "      height: 32px;\n",
              "      padding: 0 0 0 0;\n",
              "      width: 32px;\n",
              "    }\n",
              "\n",
              "    .colab-df-convert:hover {\n",
              "      background-color: #E2EBFA;\n",
              "      box-shadow: 0px 1px 2px rgba(60, 64, 67, 0.3), 0px 1px 3px 1px rgba(60, 64, 67, 0.15);\n",
              "      fill: #174EA6;\n",
              "    }\n",
              "\n",
              "    [theme=dark] .colab-df-convert {\n",
              "      background-color: #3B4455;\n",
              "      fill: #D2E3FC;\n",
              "    }\n",
              "\n",
              "    [theme=dark] .colab-df-convert:hover {\n",
              "      background-color: #434B5C;\n",
              "      box-shadow: 0px 1px 3px 1px rgba(0, 0, 0, 0.15);\n",
              "      filter: drop-shadow(0px 1px 2px rgba(0, 0, 0, 0.3));\n",
              "      fill: #FFFFFF;\n",
              "    }\n",
              "  </style>\n",
              "\n",
              "      <script>\n",
              "        const buttonEl =\n",
              "          document.querySelector('#df-0bf6aa19-1f05-4a84-b70d-46cb1f2a8d17 button.colab-df-convert');\n",
              "        buttonEl.style.display =\n",
              "          google.colab.kernel.accessAllowed ? 'block' : 'none';\n",
              "\n",
              "        async function convertToInteractive(key) {\n",
              "          const element = document.querySelector('#df-0bf6aa19-1f05-4a84-b70d-46cb1f2a8d17');\n",
              "          const dataTable =\n",
              "            await google.colab.kernel.invokeFunction('convertToInteractive',\n",
              "                                                     [key], {});\n",
              "          if (!dataTable) return;\n",
              "\n",
              "          const docLinkHtml = 'Like what you see? Visit the ' +\n",
              "            '<a target=\"_blank\" href=https://colab.research.google.com/notebooks/data_table.ipynb>data table notebook</a>'\n",
              "            + ' to learn more about interactive tables.';\n",
              "          element.innerHTML = '';\n",
              "          dataTable['output_type'] = 'display_data';\n",
              "          await google.colab.output.renderOutput(dataTable, element);\n",
              "          const docLink = document.createElement('div');\n",
              "          docLink.innerHTML = docLinkHtml;\n",
              "          element.appendChild(docLink);\n",
              "        }\n",
              "      </script>\n",
              "    </div>\n",
              "  </div>\n",
              "  "
            ]
          },
          "metadata": {},
          "execution_count": 38
        }
      ],
      "source": [
        "X"
      ]
    },
    {
      "cell_type": "code",
      "execution_count": 39,
      "metadata": {
        "colab": {
          "base_uri": "https://localhost:8080/"
        },
        "id": "C24GsOSTMc22",
        "outputId": "54051273-b2ad-49b4-8bd4-f78b683a69d7"
      },
      "outputs": [
        {
          "output_type": "execute_result",
          "data": {
            "text/plain": [
              "0        1\n",
              "1        1\n",
              "2        1\n",
              "3        1\n",
              "4        1\n",
              "        ..\n",
              "96387    0\n",
              "96388    0\n",
              "96389    0\n",
              "96390    0\n",
              "96391    0\n",
              "Name: label, Length: 192784, dtype: int64"
            ]
          },
          "metadata": {},
          "execution_count": 39
        }
      ],
      "source": [
        "y"
      ]
    },
    {
      "cell_type": "code",
      "execution_count": 40,
      "metadata": {
        "colab": {
          "base_uri": "https://localhost:8080/"
        },
        "id": "SXNJbNy0Mc23",
        "outputId": "fb5c157f-0c51-491e-cc08-17a31abb968d"
      },
      "outputs": [
        {
          "output_type": "execute_result",
          "data": {
            "text/plain": [
              "array([[-0.01389407, -0.04862467,  0.00304169],\n",
              "       [ 0.00121714, -0.04924156,  0.00161208],\n",
              "       [-0.01570742, -0.046774  ,  0.00804533],\n",
              "       ...,\n",
              "       [-0.58449341, -0.069599  ,  0.51412765],\n",
              "       [-0.45876813, -0.01407872,  0.5598752 ],\n",
              "       [-0.16500618,  0.14137809,  0.59347106]])"
            ]
          },
          "metadata": {},
          "execution_count": 40
        }
      ],
      "source": [
        "scaler = StandardScaler()\n",
        "X = scaler.fit_transform(X)\n",
        "X"
      ]
    },
    {
      "cell_type": "code",
      "execution_count": 41,
      "metadata": {
        "colab": {
          "base_uri": "https://localhost:8080/",
          "height": 424
        },
        "id": "x5jXaKi_Mc23",
        "outputId": "abe32d2f-acac-4b31-e631-cb5284ac8a07"
      },
      "outputs": [
        {
          "output_type": "execute_result",
          "data": {
            "text/plain": [
              "               x         y         z  label\n",
              "0      -0.013894 -0.048625  0.003042      1\n",
              "1       0.001217 -0.049242  0.001612      1\n",
              "2      -0.015707 -0.046774  0.008045      1\n",
              "3      -0.009663 -0.048625  0.009475      1\n",
              "4       0.001217 -0.039371 -0.007680      1\n",
              "...          ...       ...       ...    ...\n",
              "192779 -0.354199 -0.460092 -0.004106      0\n",
              "192780 -0.603836 -0.430481  0.351867      0\n",
              "192781 -0.584493 -0.069599  0.514128      0\n",
              "192782 -0.458768 -0.014079  0.559875      0\n",
              "192783 -0.165006  0.141378  0.593471      0\n",
              "\n",
              "[192784 rows x 4 columns]"
            ],
            "text/html": [
              "\n",
              "  <div id=\"df-08884547-8138-4456-aa28-bc06ca8dfd48\">\n",
              "    <div class=\"colab-df-container\">\n",
              "      <div>\n",
              "<style scoped>\n",
              "    .dataframe tbody tr th:only-of-type {\n",
              "        vertical-align: middle;\n",
              "    }\n",
              "\n",
              "    .dataframe tbody tr th {\n",
              "        vertical-align: top;\n",
              "    }\n",
              "\n",
              "    .dataframe thead th {\n",
              "        text-align: right;\n",
              "    }\n",
              "</style>\n",
              "<table border=\"1\" class=\"dataframe\">\n",
              "  <thead>\n",
              "    <tr style=\"text-align: right;\">\n",
              "      <th></th>\n",
              "      <th>x</th>\n",
              "      <th>y</th>\n",
              "      <th>z</th>\n",
              "      <th>label</th>\n",
              "    </tr>\n",
              "  </thead>\n",
              "  <tbody>\n",
              "    <tr>\n",
              "      <th>0</th>\n",
              "      <td>-0.013894</td>\n",
              "      <td>-0.048625</td>\n",
              "      <td>0.003042</td>\n",
              "      <td>1</td>\n",
              "    </tr>\n",
              "    <tr>\n",
              "      <th>1</th>\n",
              "      <td>0.001217</td>\n",
              "      <td>-0.049242</td>\n",
              "      <td>0.001612</td>\n",
              "      <td>1</td>\n",
              "    </tr>\n",
              "    <tr>\n",
              "      <th>2</th>\n",
              "      <td>-0.015707</td>\n",
              "      <td>-0.046774</td>\n",
              "      <td>0.008045</td>\n",
              "      <td>1</td>\n",
              "    </tr>\n",
              "    <tr>\n",
              "      <th>3</th>\n",
              "      <td>-0.009663</td>\n",
              "      <td>-0.048625</td>\n",
              "      <td>0.009475</td>\n",
              "      <td>1</td>\n",
              "    </tr>\n",
              "    <tr>\n",
              "      <th>4</th>\n",
              "      <td>0.001217</td>\n",
              "      <td>-0.039371</td>\n",
              "      <td>-0.007680</td>\n",
              "      <td>1</td>\n",
              "    </tr>\n",
              "    <tr>\n",
              "      <th>...</th>\n",
              "      <td>...</td>\n",
              "      <td>...</td>\n",
              "      <td>...</td>\n",
              "      <td>...</td>\n",
              "    </tr>\n",
              "    <tr>\n",
              "      <th>192779</th>\n",
              "      <td>-0.354199</td>\n",
              "      <td>-0.460092</td>\n",
              "      <td>-0.004106</td>\n",
              "      <td>0</td>\n",
              "    </tr>\n",
              "    <tr>\n",
              "      <th>192780</th>\n",
              "      <td>-0.603836</td>\n",
              "      <td>-0.430481</td>\n",
              "      <td>0.351867</td>\n",
              "      <td>0</td>\n",
              "    </tr>\n",
              "    <tr>\n",
              "      <th>192781</th>\n",
              "      <td>-0.584493</td>\n",
              "      <td>-0.069599</td>\n",
              "      <td>0.514128</td>\n",
              "      <td>0</td>\n",
              "    </tr>\n",
              "    <tr>\n",
              "      <th>192782</th>\n",
              "      <td>-0.458768</td>\n",
              "      <td>-0.014079</td>\n",
              "      <td>0.559875</td>\n",
              "      <td>0</td>\n",
              "    </tr>\n",
              "    <tr>\n",
              "      <th>192783</th>\n",
              "      <td>-0.165006</td>\n",
              "      <td>0.141378</td>\n",
              "      <td>0.593471</td>\n",
              "      <td>0</td>\n",
              "    </tr>\n",
              "  </tbody>\n",
              "</table>\n",
              "<p>192784 rows × 4 columns</p>\n",
              "</div>\n",
              "      <button class=\"colab-df-convert\" onclick=\"convertToInteractive('df-08884547-8138-4456-aa28-bc06ca8dfd48')\"\n",
              "              title=\"Convert this dataframe to an interactive table.\"\n",
              "              style=\"display:none;\">\n",
              "        \n",
              "  <svg xmlns=\"http://www.w3.org/2000/svg\" height=\"24px\"viewBox=\"0 0 24 24\"\n",
              "       width=\"24px\">\n",
              "    <path d=\"M0 0h24v24H0V0z\" fill=\"none\"/>\n",
              "    <path d=\"M18.56 5.44l.94 2.06.94-2.06 2.06-.94-2.06-.94-.94-2.06-.94 2.06-2.06.94zm-11 1L8.5 8.5l.94-2.06 2.06-.94-2.06-.94L8.5 2.5l-.94 2.06-2.06.94zm10 10l.94 2.06.94-2.06 2.06-.94-2.06-.94-.94-2.06-.94 2.06-2.06.94z\"/><path d=\"M17.41 7.96l-1.37-1.37c-.4-.4-.92-.59-1.43-.59-.52 0-1.04.2-1.43.59L10.3 9.45l-7.72 7.72c-.78.78-.78 2.05 0 2.83L4 21.41c.39.39.9.59 1.41.59.51 0 1.02-.2 1.41-.59l7.78-7.78 2.81-2.81c.8-.78.8-2.07 0-2.86zM5.41 20L4 18.59l7.72-7.72 1.47 1.35L5.41 20z\"/>\n",
              "  </svg>\n",
              "      </button>\n",
              "      \n",
              "  <style>\n",
              "    .colab-df-container {\n",
              "      display:flex;\n",
              "      flex-wrap:wrap;\n",
              "      gap: 12px;\n",
              "    }\n",
              "\n",
              "    .colab-df-convert {\n",
              "      background-color: #E8F0FE;\n",
              "      border: none;\n",
              "      border-radius: 50%;\n",
              "      cursor: pointer;\n",
              "      display: none;\n",
              "      fill: #1967D2;\n",
              "      height: 32px;\n",
              "      padding: 0 0 0 0;\n",
              "      width: 32px;\n",
              "    }\n",
              "\n",
              "    .colab-df-convert:hover {\n",
              "      background-color: #E2EBFA;\n",
              "      box-shadow: 0px 1px 2px rgba(60, 64, 67, 0.3), 0px 1px 3px 1px rgba(60, 64, 67, 0.15);\n",
              "      fill: #174EA6;\n",
              "    }\n",
              "\n",
              "    [theme=dark] .colab-df-convert {\n",
              "      background-color: #3B4455;\n",
              "      fill: #D2E3FC;\n",
              "    }\n",
              "\n",
              "    [theme=dark] .colab-df-convert:hover {\n",
              "      background-color: #434B5C;\n",
              "      box-shadow: 0px 1px 3px 1px rgba(0, 0, 0, 0.15);\n",
              "      filter: drop-shadow(0px 1px 2px rgba(0, 0, 0, 0.3));\n",
              "      fill: #FFFFFF;\n",
              "    }\n",
              "  </style>\n",
              "\n",
              "      <script>\n",
              "        const buttonEl =\n",
              "          document.querySelector('#df-08884547-8138-4456-aa28-bc06ca8dfd48 button.colab-df-convert');\n",
              "        buttonEl.style.display =\n",
              "          google.colab.kernel.accessAllowed ? 'block' : 'none';\n",
              "\n",
              "        async function convertToInteractive(key) {\n",
              "          const element = document.querySelector('#df-08884547-8138-4456-aa28-bc06ca8dfd48');\n",
              "          const dataTable =\n",
              "            await google.colab.kernel.invokeFunction('convertToInteractive',\n",
              "                                                     [key], {});\n",
              "          if (!dataTable) return;\n",
              "\n",
              "          const docLinkHtml = 'Like what you see? Visit the ' +\n",
              "            '<a target=\"_blank\" href=https://colab.research.google.com/notebooks/data_table.ipynb>data table notebook</a>'\n",
              "            + ' to learn more about interactive tables.';\n",
              "          element.innerHTML = '';\n",
              "          dataTable['output_type'] = 'display_data';\n",
              "          await google.colab.output.renderOutput(dataTable, element);\n",
              "          const docLink = document.createElement('div');\n",
              "          docLink.innerHTML = docLinkHtml;\n",
              "          element.appendChild(docLink);\n",
              "        }\n",
              "      </script>\n",
              "    </div>\n",
              "  </div>\n",
              "  "
            ]
          },
          "metadata": {},
          "execution_count": 41
        }
      ],
      "source": [
        "scaled_X = pd.DataFrame(data = X, columns = ['x', 'y', 'z'])\n",
        "scaled_X['label'] = y.values\n",
        "\n",
        "scaled_X"
      ]
    },
    {
      "cell_type": "markdown",
      "metadata": {
        "id": "b0wSMOVPMc23"
      },
      "source": [
        "### Frame Preparation "
      ]
    },
    {
      "cell_type": "code",
      "execution_count": 42,
      "metadata": {
        "id": "srG4K3a7Mc24"
      },
      "outputs": [],
      "source": [
        "import scipy.stats as stats"
      ]
    },
    {
      "cell_type": "code",
      "execution_count": 52,
      "metadata": {
        "id": "ry17DaQeMc24"
      },
      "outputs": [],
      "source": [
        "Fs = 20\n",
        "frame_size = Fs*10 # 200\n",
        "hop_size = Fs*2 # 40"
      ]
    },
    {
      "cell_type": "code",
      "execution_count": 53,
      "metadata": {
        "id": "K0AWf47dMc24"
      },
      "outputs": [],
      "source": [
        "def get_frames(df, frame_size, hop_size):\n",
        "\n",
        "    N_FEATURES = 3\n",
        "\n",
        "    frames = []\n",
        "    labels = []\n",
        "    for i in range(0, len(df) - frame_size, hop_size):\n",
        "        x = df['x'].values[i: i + frame_size]\n",
        "        y = df['y'].values[i: i + frame_size]\n",
        "        z = df['z'].values[i: i + frame_size]\n",
        "        \n",
        "        # Retrieve the most often used label in this segment\n",
        "        label = stats.mode(df['label'][i: i + frame_size])[0][0]\n",
        "        frames.append([x, y, z])\n",
        "        labels.append(label)\n",
        "\n",
        "    # Bring the segments into a better shape\n",
        "    frames = np.asarray(frames).reshape(-1, frame_size, N_FEATURES)\n",
        "    labels = np.asarray(labels)\n",
        "\n",
        "    return frames, labels"
      ]
    },
    {
      "cell_type": "code",
      "execution_count": 54,
      "metadata": {
        "id": "uctcEc7mMc25"
      },
      "outputs": [],
      "source": [
        "X, y = get_frames(scaled_X, frame_size, hop_size)"
      ]
    },
    {
      "cell_type": "code",
      "execution_count": 55,
      "metadata": {
        "colab": {
          "base_uri": "https://localhost:8080/"
        },
        "id": "bfoYnzPxMc25",
        "outputId": "b33c2ebc-6b1e-421f-9431-2b26efe883b4"
      },
      "outputs": [
        {
          "output_type": "execute_result",
          "data": {
            "text/plain": [
              "array([[[-1.38940715e-02,  1.21713978e-03, -1.57074169e-02],\n",
              "        [-9.66293236e-03,  1.21713978e-03, -2.29607983e-02],\n",
              "        [ 8.47052121e-03, -1.51029684e-02, -1.80510248e-03],\n",
              "        ...,\n",
              "        [ 1.61207958e-03,  2.66302732e-02,  1.51933847e-02],\n",
              "        [ 3.75649617e-03,  1.37637736e-02,  1.09045515e-02],\n",
              "        [ 1.16193570e-02,  2.73450787e-02,  1.16193570e-02]],\n",
              "\n",
              "       [[-1.93341076e-02, -1.08718293e-02, -1.44985200e-02],\n",
              "        [-7.24513855e-03, -1.02673808e-02, -1.14762777e-02],\n",
              "        [-1.14762777e-02, -1.69163138e-02,  8.24287794e-06],\n",
              "        ...,\n",
              "        [ 3.09191064e-02,  9.47494042e-03,  1.30489681e-02],\n",
              "        [ 9.47494042e-03,  1.16193570e-02,  1.66229957e-02],\n",
              "        [ 2.73450787e-02,  2.66302732e-02,  1.59081902e-02]],\n",
              "\n",
              "       [[ 4.23938204e-03, -2.23563498e-02, -4.22289629e-03],\n",
              "        [-1.08718293e-02, -5.43179319e-03, -1.32896231e-02],\n",
              "        [-2.17519014e-02, -8.45403545e-03, -1.51029684e-02],\n",
              "        ...,\n",
              "        [ 6.61571829e-03,  8.04532936e-03,  2.73450787e-02],\n",
              "        [ 1.59081902e-02,  2.44858566e-02,  1.59081902e-02],\n",
              "        [ 1.66229957e-02,  1.73378013e-02,  2.16266345e-02]],\n",
              "\n",
              "       ...,\n",
              "\n",
              "       [[-3.44453189e-02,  8.24287794e-06,  2.66039748e-02],\n",
              "        [ 4.11107376e-02,  2.47906294e-02, -1.02673808e-02],\n",
              "        [-8.52189889e-02, -6.88988807e-02, -1.63118653e-02],\n",
              "        ...,\n",
              "        [-1.48303901e+00, -1.34150751e+00, -1.15208405e+00],\n",
              "        [-1.43729145e+00, -1.57453412e+00, -1.50734240e+00],\n",
              "        [-1.43228782e+00, -1.16638016e+00, -1.02270425e+00]],\n",
              "\n",
              "       [[ 4.47374283e-02,  6.12691330e-04, -3.14230766e-02],\n",
              "        [-5.62054632e-02, -5.62054632e-02,  1.01555583e-01],\n",
              "        [-4.82734474e-03, -1.37201556e-01,  6.22664334e-02],\n",
              "        ...,\n",
              "        [ 3.80671617e-02, -8.32565975e-01, -1.23428668e+00],\n",
              "        [-1.42085093e+00, -1.59311906e+00, -1.10204766e+00],\n",
              "        [-7.46789312e-01, -3.11472743e-01,  9.95404374e-02]],\n",
              "\n",
              "       [[ 1.03973377e-01,  1.11226758e-01,  1.17875691e-01],\n",
              "        [ 1.19084588e-01, -1.02673808e-02,  1.87461449e-02],\n",
              "        [ 2.17005237e-01,  1.92222851e-01,  1.45150057e-02],\n",
              "        ...,\n",
              "        [ 1.01806555e+00,  9.80180852e-01,  1.14673054e+00],\n",
              "        [ 1.16245626e+00,  1.29398048e+00,  1.30112854e+00],\n",
              "        [ 1.09240532e+00,  7.10699167e-01,  8.88183544e-02]]])"
            ]
          },
          "metadata": {},
          "execution_count": 55
        }
      ],
      "source": [
        "X"
      ]
    },
    {
      "cell_type": "code",
      "execution_count": 56,
      "metadata": {
        "colab": {
          "base_uri": "https://localhost:8080/"
        },
        "id": "43lu9lEsMc25",
        "outputId": "cc0528d7-4271-48b2-84b1-3711b60ccdee"
      },
      "outputs": [
        {
          "output_type": "execute_result",
          "data": {
            "text/plain": [
              "array([1, 1, 1, ..., 0, 0, 0])"
            ]
          },
          "metadata": {},
          "execution_count": 56
        }
      ],
      "source": [
        "y"
      ]
    },
    {
      "cell_type": "code",
      "execution_count": 57,
      "metadata": {
        "colab": {
          "base_uri": "https://localhost:8080/"
        },
        "id": "hKIYUfQXMc26",
        "outputId": "ea1700b0-7132-4c9e-e87d-0f356b168fbd"
      },
      "outputs": [
        {
          "output_type": "execute_result",
          "data": {
            "text/plain": [
              "((4815, 200, 3), (4815,))"
            ]
          },
          "metadata": {},
          "execution_count": 57
        }
      ],
      "source": [
        "X.shape, y.shape"
      ]
    },
    {
      "cell_type": "code",
      "execution_count": 58,
      "metadata": {
        "colab": {
          "base_uri": "https://localhost:8080/"
        },
        "id": "HkRMi3qJMc26",
        "outputId": "e38bded4-b569-4052-df2f-416d7dd9f8fc"
      },
      "outputs": [
        {
          "output_type": "execute_result",
          "data": {
            "text/plain": [
              "533.25"
            ]
          },
          "metadata": {},
          "execution_count": 58
        }
      ],
      "source": [
        "(3555*6)/40"
      ]
    },
    {
      "cell_type": "code",
      "execution_count": 59,
      "metadata": {
        "id": "Hxvv31iwMc26"
      },
      "outputs": [],
      "source": [
        "X_train, X_test, y_train, y_test = train_test_split(X, y, test_size = 0.2, random_state = 0, stratify = y)"
      ]
    },
    {
      "cell_type": "code",
      "execution_count": 60,
      "metadata": {
        "colab": {
          "base_uri": "https://localhost:8080/"
        },
        "id": "ei5t2rKyMc26",
        "outputId": "42d88c7a-7a53-4d05-dc1f-149758d8df0c"
      },
      "outputs": [
        {
          "output_type": "execute_result",
          "data": {
            "text/plain": [
              "((3852, 200, 3), (963, 200, 3))"
            ]
          },
          "metadata": {},
          "execution_count": 60
        }
      ],
      "source": [
        "X_train.shape, X_test.shape"
      ]
    },
    {
      "cell_type": "code",
      "execution_count": 61,
      "metadata": {
        "colab": {
          "base_uri": "https://localhost:8080/"
        },
        "id": "pSSRIYgSMc26",
        "outputId": "baef1bef-e90f-4828-c436-73af6c3d5e3f"
      },
      "outputs": [
        {
          "output_type": "execute_result",
          "data": {
            "text/plain": [
              "((200, 3), (200, 3))"
            ]
          },
          "metadata": {},
          "execution_count": 61
        }
      ],
      "source": [
        "X_train[0].shape, X_test[0].shape"
      ]
    },
    {
      "cell_type": "code",
      "execution_count": 62,
      "metadata": {
        "id": "coRjvWBzMc27"
      },
      "outputs": [],
      "source": [
        "X_train = X_train.reshape(3852, 200, 3, 1)\n",
        "X_test = X_test.reshape(963, 200, 3, 1)"
      ]
    },
    {
      "cell_type": "code",
      "execution_count": 77,
      "metadata": {
        "colab": {
          "base_uri": "https://localhost:8080/"
        },
        "id": "HUAZNdpVMc27",
        "outputId": "930f7319-0c4e-4e60-9ce0-3cc542dc5086"
      },
      "outputs": [
        {
          "output_type": "execute_result",
          "data": {
            "text/plain": [
              "((200, 3, 1), (200, 3, 1))"
            ]
          },
          "metadata": {},
          "execution_count": 77
        }
      ],
      "source": [
        "X_train[0].shape, X_test[0].shape"
      ]
    },
    {
      "cell_type": "markdown",
      "metadata": {
        "id": "9OpAMyHnMc27"
      },
      "source": [
        "### 2D CNN Model "
      ]
    },
    {
      "cell_type": "code",
      "source": [
        "from tensorflow import keras\n",
        "model = keras.Sequential()\n",
        "# model.add(Flatten())\n",
        "model.add(Conv2D(64, kernel_size = (2,2), activation= tf.nn.relu, input_shape = X_train[0].shape))\n",
        "model.add(Dropout(0.1))\n",
        "\n",
        "model.add(Conv2D(64, kernel_size = (2,2), activation= tf.nn.relu))\n",
        "model.add(Dropout(0.1))\n",
        "\n",
        "model.add(MaxPool2D(pool_size = (2,2), padding = 'same'))\n",
        "\n",
        "model.add(Flatten())\n",
        "model.add(Dense(128, activation = tf.nn.sigmoid))\n",
        "model.add(Flatten())\n",
        "# model.add(Dropout(0.5))\n",
        "\n",
        "# model.add(Dense(6, activation='softmax'))"
      ],
      "metadata": {
        "id": "tRx2Pp0LVcOG"
      },
      "execution_count": 74,
      "outputs": []
    },
    {
      "cell_type": "code",
      "source": [
        "model = Sequential()\n",
        "model.add(Conv2D(16, (2, 2), activation = 'relu', input_shape = X_train[0].shape))\n",
        "model.add(Dropout(0.1))\n",
        "\n",
        "model.add(Conv2D(32, (2, 2), activation='relu'))\n",
        "model.add(Dropout(0.2))\n",
        "\n",
        "model.add(Flatten())\n",
        "\n",
        "model.add(Dense(64, activation = 'sigmoid'))\n",
        "model.add(Dropout(0.5))\n",
        "\n",
        "model.add(Dense(6, activation='sigmoid'))\n",
        "model.add(Flatten())"
      ],
      "metadata": {
        "id": "ROogY3X5VN-l"
      },
      "execution_count": 78,
      "outputs": []
    },
    {
      "cell_type": "code",
      "execution_count": 64,
      "metadata": {
        "id": "Tsd2-qN9Mc27"
      },
      "outputs": [],
      "source": [
        "model = Sequential()\n",
        "model.add(Conv2D(16, (2, 2), activation = 'relu', input_shape = X_train[0].shape))\n",
        "model.add(Dropout(0.1))\n",
        "\n",
        "model.add(Conv2D(32, (2, 2), activation='relu'))\n",
        "model.add(Dropout(0.2))\n",
        "\n",
        "model.add(Flatten())\n",
        "\n",
        "model.add(Dense(64, activation = 'relu'))\n",
        "model.add(Dropout(0.5))\n",
        "\n",
        "model.add(Dense(6, activation='softmax'))\n"
      ]
    },
    {
      "cell_type": "code",
      "execution_count": 81,
      "metadata": {
        "id": "BfUWfT_SMc27"
      },
      "outputs": [],
      "source": [
        "model.compile(optimizer=Adam(learning_rate = 0.001), loss = 'binary_crossentropy', metrics = ['accuracy'])"
      ]
    },
    {
      "cell_type": "code",
      "execution_count": 83,
      "metadata": {
        "colab": {
          "base_uri": "https://localhost:8080/"
        },
        "id": "yFjLYQfqMc28",
        "outputId": "65260aef-b765-49f5-8019-a24847a4b89e"
      },
      "outputs": [
        {
          "output_type": "stream",
          "name": "stdout",
          "text": [
            "Epoch 1/20\n",
            "121/121 [==============================] - 3s 27ms/step - loss: 0.1962 - accuracy: 0.3897 - val_loss: 0.1922 - val_accuracy: 0.6573\n",
            "Epoch 2/20\n",
            "121/121 [==============================] - 2s 20ms/step - loss: 0.1799 - accuracy: 0.4190 - val_loss: 0.1821 - val_accuracy: 0.6802\n",
            "Epoch 3/20\n",
            "121/121 [==============================] - 2s 20ms/step - loss: 0.1731 - accuracy: 0.4136 - val_loss: 0.1849 - val_accuracy: 0.6926\n",
            "Epoch 4/20\n",
            "121/121 [==============================] - 2s 20ms/step - loss: 0.1507 - accuracy: 0.4343 - val_loss: 0.1756 - val_accuracy: 0.9221\n",
            "Epoch 5/20\n",
            "121/121 [==============================] - 2s 20ms/step - loss: 0.1427 - accuracy: 0.4169 - val_loss: 0.1733 - val_accuracy: 0.6833\n",
            "Epoch 6/20\n",
            "121/121 [==============================] - 2s 20ms/step - loss: 0.1380 - accuracy: 0.4117 - val_loss: 0.1710 - val_accuracy: 0.5701\n",
            "Epoch 7/20\n",
            "121/121 [==============================] - 2s 20ms/step - loss: 0.1255 - accuracy: 0.3759 - val_loss: 0.1688 - val_accuracy: 0.6054\n",
            "Epoch 8/20\n",
            "121/121 [==============================] - 2s 20ms/step - loss: 0.1194 - accuracy: 0.3512 - val_loss: 0.1625 - val_accuracy: 0.7861\n",
            "Epoch 9/20\n",
            "121/121 [==============================] - 2s 20ms/step - loss: 0.1076 - accuracy: 0.4060 - val_loss: 0.1616 - val_accuracy: 0.5909\n",
            "Epoch 10/20\n",
            "121/121 [==============================] - 2s 20ms/step - loss: 0.1092 - accuracy: 0.3663 - val_loss: 0.1602 - val_accuracy: 0.6179\n",
            "Epoch 11/20\n",
            "121/121 [==============================] - 2s 20ms/step - loss: 0.1093 - accuracy: 0.3943 - val_loss: 0.1630 - val_accuracy: 0.6511\n",
            "Epoch 12/20\n",
            "121/121 [==============================] - 2s 20ms/step - loss: 0.0996 - accuracy: 0.3606 - val_loss: 0.1593 - val_accuracy: 0.5182\n",
            "Epoch 13/20\n",
            "121/121 [==============================] - 2s 20ms/step - loss: 0.0978 - accuracy: 0.3756 - val_loss: 0.1604 - val_accuracy: 0.8588\n",
            "Epoch 14/20\n",
            "121/121 [==============================] - 2s 20ms/step - loss: 0.0938 - accuracy: 0.3759 - val_loss: 0.1554 - val_accuracy: 0.5223\n",
            "Epoch 15/20\n",
            "121/121 [==============================] - 2s 20ms/step - loss: 0.0900 - accuracy: 0.3775 - val_loss: 0.1686 - val_accuracy: 0.5691\n",
            "Epoch 16/20\n",
            "121/121 [==============================] - 2s 20ms/step - loss: 0.0896 - accuracy: 0.4328 - val_loss: 0.1628 - val_accuracy: 0.8089\n",
            "Epoch 17/20\n",
            "121/121 [==============================] - 2s 20ms/step - loss: 0.0840 - accuracy: 0.3894 - val_loss: 0.1544 - val_accuracy: 0.6002\n",
            "Epoch 18/20\n",
            "121/121 [==============================] - 2s 20ms/step - loss: 0.0787 - accuracy: 0.3679 - val_loss: 0.1627 - val_accuracy: 0.5535\n",
            "Epoch 19/20\n",
            "121/121 [==============================] - 2s 20ms/step - loss: 0.0814 - accuracy: 0.3463 - val_loss: 0.1691 - val_accuracy: 0.5379\n",
            "Epoch 20/20\n",
            "121/121 [==============================] - 2s 20ms/step - loss: 0.0759 - accuracy: 0.3598 - val_loss: 0.1683 - val_accuracy: 0.5462\n"
          ]
        }
      ],
      "source": [
        "history = model.fit(X_train, y_train, epochs = 20, validation_data= (X_test, y_test), verbose=1)"
      ]
    },
    {
      "cell_type": "code",
      "source": [
        "model.summary()"
      ],
      "metadata": {
        "colab": {
          "base_uri": "https://localhost:8080/"
        },
        "id": "FhqFZmLYVAPu",
        "outputId": "cc920f4c-a312-4769-8b11-5d0c0b66e8cd"
      },
      "execution_count": 67,
      "outputs": [
        {
          "output_type": "stream",
          "name": "stdout",
          "text": [
            "Model: \"sequential\"\n",
            "_________________________________________________________________\n",
            " Layer (type)                Output Shape              Param #   \n",
            "=================================================================\n",
            " conv2d (Conv2D)             (None, 199, 2, 16)        80        \n",
            "                                                                 \n",
            " dropout (Dropout)           (None, 199, 2, 16)        0         \n",
            "                                                                 \n",
            " conv2d_1 (Conv2D)           (None, 198, 1, 32)        2080      \n",
            "                                                                 \n",
            " dropout_1 (Dropout)         (None, 198, 1, 32)        0         \n",
            "                                                                 \n",
            " flatten (Flatten)           (None, 6336)              0         \n",
            "                                                                 \n",
            " dense (Dense)               (None, 64)                405568    \n",
            "                                                                 \n",
            " dropout_2 (Dropout)         (None, 64)                0         \n",
            "                                                                 \n",
            " dense_1 (Dense)             (None, 6)                 390       \n",
            "                                                                 \n",
            "=================================================================\n",
            "Total params: 408,118\n",
            "Trainable params: 408,118\n",
            "Non-trainable params: 0\n",
            "_________________________________________________________________\n"
          ]
        }
      ]
    },
    {
      "cell_type": "code",
      "execution_count": null,
      "metadata": {
        "id": "NqyLRZlWMc28"
      },
      "outputs": [],
      "source": [
        "def plot_learningCurve(history, epochs):\n",
        "  # Plot training & validation accuracy values\n",
        "  epoch_range = range(1, epochs+1)\n",
        "  plt.plot(epoch_range, history.history['accuracy'])\n",
        "  plt.plot(epoch_range, history.history['val_accuracy'])\n",
        "  plt.title('Model accuracy')\n",
        "  plt.ylabel('Accuracy')\n",
        "  plt.xlabel('Epoch')\n",
        "  plt.legend(['Train', 'Val'], loc='upper left')\n",
        "  plt.show()\n",
        "\n",
        "  # Plot training & validation loss values\n",
        "  plt.plot(epoch_range, history.history['loss'])\n",
        "  plt.plot(epoch_range, history.history['val_loss'])\n",
        "  plt.title('Model loss')\n",
        "  plt.ylabel('Loss')\n",
        "  plt.xlabel('Epoch')\n",
        "  plt.legend(['Train', 'Val'], loc='upper left')\n",
        "  plt.show()"
      ]
    },
    {
      "cell_type": "code",
      "execution_count": null,
      "metadata": {
        "id": "rMbUsDAaMc28",
        "outputId": "e16894dd-ff1b-49e9-8b59-d09a4cd6d1bb"
      },
      "outputs": [
        {
          "data": {
            "image/png": "[encoded data removed]",
            "text/plain": [
              "<Figure size 432x288 with 1 Axes>"
            ]
          },
          "metadata": {
            "needs_background": "light"
          },
          "output_type": "display_data"
        },
        {
          "data": {
            "image/png": "[encoded data removed]",
            "text/plain": [
              "<Figure size 432x288 with 1 Axes>"
            ]
          },
          "metadata": {
            "needs_background": "light"
          },
          "output_type": "display_data"
        }
      ],
      "source": [
        "plot_learningCurve(history, 10)"
      ]
    },
    {
      "cell_type": "markdown",
      "metadata": {
        "id": "OtBtBfCiMc28"
      },
      "source": [
        "### Confusion Matrix "
      ]
    },
    {
      "cell_type": "code",
      "execution_count": null,
      "metadata": {
        "id": "G38DBSicMc29"
      },
      "outputs": [],
      "source": [
        "from mlxtend.plotting import plot_confusion_matrix\n",
        "from sklearn.metrics import confusion_matrix"
      ]
    },
    {
      "cell_type": "code",
      "execution_count": null,
      "metadata": {
        "id": "Rbj17pvIMc29"
      },
      "outputs": [],
      "source": [
        "y_pred = model.predict(X_test)"
      ]
    },
    {
      "cell_type": "code",
      "execution_count": null,
      "metadata": {
        "id": "W54UNPoxMc29",
        "outputId": "be09b2c7-fbd6-4256-ac71-cf346701b54e"
      },
      "outputs": [
        {
          "data": {
            "text/plain": [
              "2857"
            ]
          },
          "execution_count": 52,
          "metadata": {},
          "output_type": "execute_result"
        }
      ],
      "source": [
        "model.save_weights('model.h5')\n",
        "json_string = model.to_json()\n",
        "open('model.json', 'w').write(json_string)"
      ]
    }
  ],
  "metadata": {
    "kernelspec": {
      "display_name": "Python 3.8.6 ('cv')",
      "language": "python",
      "name": "python3"
    },
    "language_info": {
      "codemirror_mode": {
        "name": "ipython",
        "version": 3
      },
      "file_extension": ".py",
      "mimetype": "text/x-python",
      "name": "python",
      "nbconvert_exporter": "python",
      "pygments_lexer": "ipython3",
      "version": "3.8.6"
    },
    "vscode": {
      "interpreter": {
        "hash": "49cc7f33b63d2a59a94cdd5905a9d69fd357a4127d48e5e12af1b13af86b584e"
      }
    },
    "colab": {
      "name": "training_recognition.ipynb",
      "provenance": []
    }
  },
  "nbformat": 4,
  "nbformat_minor": 0
}