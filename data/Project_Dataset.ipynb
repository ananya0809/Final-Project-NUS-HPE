{
  "nbformat": 4,
  "nbformat_minor": 0,
  "metadata": {
    "colab": {
      "name": "Project_Dataset.ipynb",
      "provenance": []
    },
    "kernelspec": {
      "name": "python3",
      "display_name": "Python 3"
    },
    "language_info": {
      "name": "python"
    }
  },
  "cells": [
    {
      "cell_type": "markdown",
      "source": [
        "### Download Dataset for the GAIP Group 3 Project on the Topic \"Deep Learning to Detect Heavy Drinking Episodes Using Smartphone Accelerometer Data\" \n",
        "\n",
        "Run the cell below to download the dataset in colab files for the runtime duration.\n",
        "\n",
        "Download the saved dataset by clicking on the 3 dots alongside the saved dataset on colab to your physical system.\n"
      ],
      "metadata": {
        "id": "mbqgNgyIIM5T"
      }
    },
    {
      "cell_type": "code",
      "execution_count": 1,
      "metadata": {
        "colab": {
          "base_uri": "https://localhost:8080/"
        },
        "id": "j-odt0ULHgwf",
        "outputId": "9222ad2f-2e81-47fb-da31-ce057f5da2e7"
      },
      "outputs": [
        {
          "output_type": "stream",
          "name": "stdout",
          "text": [
            "--2022-07-12 11:17:06--  https://archive.ics.uci.edu/ml/machine-learning-databases/00515/data.zip\n",
            "Resolving archive.ics.uci.edu (archive.ics.uci.edu)... 128.195.10.252\n",
            "Connecting to archive.ics.uci.edu (archive.ics.uci.edu)|128.195.10.252|:443... connected.\n",
            "HTTP request sent, awaiting response... 200 OK\n",
            "Length: 160343356 (153M) [application/x-httpd-php]\n",
            "Saving to: ‘data.zip’\n",
            "\n",
            "data.zip            100%[===================>] 152.92M  22.1MB/s    in 7.7s    \n",
            "\n",
            "2022-07-12 11:17:14 (19.8 MB/s) - ‘data.zip’ saved [160343356/160343356]\n",
            "\n"
          ]
        }
      ],
      "source": [
        "! wget \"https://archive.ics.uci.edu/ml/machine-learning-databases/00515/data.zip\""
      ]
    }
  ]
}