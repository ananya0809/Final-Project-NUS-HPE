{
 "cells": [
  {
   "cell_type": "code",
   "execution_count": 17,
   "metadata": {},
   "outputs": [],
   "source": [
    "def transform_row(row, csv_reader):\n",
    "    if float(row[1])>0.08:\n",
    "        row.append(1)\n",
    "    else:\n",
    "        row.append(0)\n",
    "    print(row)"
   ]
  },
  {
   "cell_type": "code",
   "execution_count": 18,
   "metadata": {},
   "outputs": [],
   "source": [
    "from csv import writer\n",
    "from csv import reader\n",
    "def add_column_in_csv(input_file, output_file, transform_row):\n",
    "    \"\"\" Append a column in existing csv using csv.reader / csv.writer classes\"\"\"\n",
    "    # Open the input_file in read mode and output_file in write mode\n",
    "    with open(input_file, 'r') as read_obj, \\\n",
    "            open(output_file, 'w', newline='') as write_obj:\n",
    "        # Create a csv.reader object from the input file object\n",
    "        csv_reader = reader(read_obj)\n",
    "        # Create a csv.writer object from the output file object\n",
    "        csv_writer = writer(write_obj)\n",
    "        # Read each row of the input csv file as list\n",
    "        for row in csv_reader:\n",
    "            if csv_reader.line_num!=1:\n",
    "                # Pass the list / row in the transform function to add column text for this row\n",
    "                transform_row(row, csv_reader.line_num)\n",
    "            # Write the updated row / list to the output file\n",
    "            csv_writer.writerow(row)"
   ]
  },
  {
   "cell_type": "code",
   "execution_count": 19,
   "metadata": {},
   "outputs": [
    {
     "name": "stdout",
     "output_type": "stream",
     "text": [
      "['1493718714', '-0.000482419658731821', 0]\n",
      "['1493720697', '0.00157292158958013', 0]\n",
      "['1493721027', '0.00214413758184236', 0]\n",
      "['1493721357', '0.000876811688604178', 0]\n",
      "['1493721686', '-0.00114538537019604', 0]\n",
      "['1493722016', '-0.00215922161266845', 0]\n",
      "['1493722345', '-0.00103254565193002', 0]\n",
      "['1493722674', '0.00180791724925351', 0]\n",
      "['1493723003', '0.00454188784637137', 0]\n",
      "['1493724832', '0.0051849954263706', 0]\n",
      "['1493725160', '0.00309350803017529', 0]\n",
      "['1493725474', '-0.000291016362959302', 0]\n",
      "['1493725804', '-0.00202490073126926', 0]\n",
      "['1493727636', '0.00074367727591427', 0]\n",
      "['1493729467', '0.0091884664654266', 0]\n",
      "['1493731296', '0.0222502268948867', 0]\n",
      "['1493733371', '0.0374216585695656', 0]\n",
      "['1493735217', '0.0522380482615215', 0]\n",
      "['1493737046', '0.0653566311750205', 0]\n",
      "['1493738847', '0.0764619396581417', 0]\n",
      "['1493740845', '0.08519669593783', 1]\n",
      "['1493742871', '0.0901654782586229', 1]\n",
      "['1493744843', '0.0891215869917304', 1]\n",
      "['1493746883', '0.0805881161832726', 1]\n",
      "['1493748731', '0.0659532707973154', 0]\n",
      "['1493750580', '0.0504236165425418', 0]\n",
      "['1493752430', '0.0416892364132567', 0]\n",
      "['1493754265', '0.0465593903717664', 0]\n",
      "['1493756113', '0.0672685522943786', 0]\n",
      "['1493757960', '0.0996299302390253', 1]\n",
      "['1493759807', '0.134315215646515', 1]\n",
      "['1493761652', '0.160773735223867', 1]\n",
      "['1493763497', '0.171757519162516', 1]\n",
      "['1493765341', '0.166076460319591', 1]\n",
      "['1493767186', '0.14826540199656', 1]\n",
      "['1493769031', '0.125622589486077', 1]\n",
      "['1493770877', '0.104468482105482', 1]\n",
      "['1493772722', '0.0876778744036706', 1]\n",
      "['1493774569', '0.0745435966625143', 0]\n",
      "['1493776416', '0.0625634385176532', 0]\n",
      "['1493778262', '0.0497339375295368', 0]\n",
      "['1493780109', '0.0359191588947751', 0]\n",
      "['1493781957', '0.0226945396600165', 0]\n",
      "['1493783788', '0.0120985325363885', 0]\n",
      "['1493785620', '0.00529692945891876', 0]\n",
      "['1493787453', '0.0020097807508881', 0]\n",
      "['1493789284', '0.000904489573799806', 0]\n",
      "['1493791117', '0.000517078647661073', 0]\n",
      "['1493792948', '2.63693172658935e-05', 0]\n",
      "['1493794779', '-0.000562116251049561', 0]\n",
      "['1493796610', '-0.000804329852077165', 0]\n",
      "['1493798439', '-0.000403954002493041', 0]\n",
      "['1493800387', '0.000429393318416296', 0]\n",
      "['1493802438', '0.00105463566013815', 0]\n",
      "['1493804253', '0.000804479180899719', 0]\n",
      "['1493806084', '-0.000574370158394781', 0]\n",
      "['1493807899', '-0.00273205915428959', 0]\n"
     ]
    }
   ],
   "source": [
    "add_column_in_csv(\"C:/Users/manim/Downloads/data/clean_tac/BK7610_clean_TAC.csv\", \"C:/Users/manim/Downloads/data/clean_tac/BK7610_clean_TAC_new.csv\", transform_row)"
   ]
  }
 ],
 "metadata": {
  "kernelspec": {
   "display_name": "Python 3",
   "language": "python",
   "name": "python3"
  },
  "language_info": {
   "codemirror_mode": {
    "name": "ipython",
    "version": 3
   },
   "file_extension": ".py",
   "mimetype": "text/x-python",
   "name": "python",
   "nbconvert_exporter": "python",
   "pygments_lexer": "ipython3",
   "version": "3.8.5"
  }
 },
 "nbformat": 4,
 "nbformat_minor": 4
}
